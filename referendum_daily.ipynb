{
 "cells": [
  {
   "cell_type": "code",
   "execution_count": 134,
   "metadata": {
    "collapsed": true
   },
   "outputs": [],
   "source": [
    "from referendum_daily import *"
   ]
  },
  {
   "cell_type": "code",
   "execution_count": 165,
   "metadata": {
    "collapsed": false
   },
   "outputs": [],
   "source": [
    "# load the raw_data\n",
    "Bastaunsi = convert_data('bastaunsi')\n",
    "Iovotono = convert_data('iovotono')\n",
    "\n",
    "Bastaunsi = Bastaunsi.dropna()\n",
    "Iovotono = Iovotono.dropna()"
   ]
  },
  {
   "cell_type": "code",
   "execution_count": 166,
   "metadata": {
    "collapsed": false
   },
   "outputs": [],
   "source": [
    "Bastaunsi.to_csv('Bastaunsi.csv')\n",
    "Iovotono.to_csv('Iovotono.csv')"
   ]
  },
  {
   "cell_type": "code",
   "execution_count": 164,
   "metadata": {
    "collapsed": false
   },
   "outputs": [
    {
     "data": {
      "text/plain": [
       "[('https://t.co/SieovSBzFv', 89),\n",
       " ('https://t.co/Cw', 23),\n",
       " ('https://t.co/C4', 41),\n",
       " ('https://t.co/w75VmoIbPO', 31),\n",
       " ('https://t.co/HxqlnDKUiL', 120),\n",
       " ('https://t.co/OkDgg80Zjt', 27),\n",
       " ('https://t.co/4k6Sjr44OL', 29),\n",
       " ('https://t.co/mBTqtiP2ds', 21),\n",
       " ('https://t.co/6nmsVvxbzb', 35),\n",
       " ('https://t.co/mP1HacigwC', 39),\n",
       " ('https://t.co/FcV03HVCvf', 27),\n",
       " ('https://t.co/r4klthGpdr', 31),\n",
       " ('https://t.co/ZO', 33),\n",
       " ('https://t.co/pqP5dcLUaH', 31),\n",
       " ('https://t.co/veyA1ygrHt', 211),\n",
       " ('https://t.co/zDiSpH', 32),\n",
       " ('https://t.co/1534scYEgS', 23),\n",
       " ('https://t.co/GYjcHQHiJ4', 22),\n",
       " ('https://t.co/UiN', 32),\n",
       " ('https://t.co/7NHGGd2OP9', 33),\n",
       " ('https://t.co/Uvay7D6mAQ', 40),\n",
       " ('https://t.co/oDAnikVm0A', 49),\n",
       " ('https://t.co/T2qWmUHzEU', 32),\n",
       " ('https://t.co/WvhIQXv9s4', 26),\n",
       " ('https://t.co/WKmqNS9Cfc', 38),\n",
       " ('https://t.co/6Wg2PJWIZ2', 26),\n",
       " ('https://t.co/kiifPsnt', 163),\n",
       " ('https://t.co/EZOeSQMn1y', 650),\n",
       " ('https://t.co/bAK0KuBP3H', 36),\n",
       " ('https://t.co/wjKklAZ0PL', 29),\n",
       " ('https://t.co/', 848),\n",
       " ('https://t.co/9HEGJK1qIb', 25),\n",
       " ('https://t.co/ORKonOVsoy', 26),\n",
       " ('https://t.co/KwPHVMXRsM', 40),\n",
       " ('https://t.co/kFhQKb0S70', 650),\n",
       " ('https://t.co/e2wGQBZMj7', 58),\n",
       " ('https://t.co/pMOdjjLiH5', 34),\n",
       " ('https://t.co/zIPrX9PjsN', 21),\n",
       " ('https://t.co/QX8FS6a7GV', 49),\n",
       " ('https://t.co/W6fc6eYlFS', 25),\n",
       " ('https://t.co/MD5hRhy80T', 43),\n",
       " ('https://t', 601),\n",
       " ('https://t.co/g3tvG3AdZd', 134),\n",
       " ('https://t.co/mQcCsI8KzI', 95),\n",
       " ('https://t.co/CT8mzDz9s7', 22),\n",
       " ('https://t.co/nE72wEYHAp', 28),\n",
       " ('https://t.co/Xpe995g', 37),\n",
       " ('https://t.co/8E4P', 68),\n",
       " ('https://t.co/6FCKZNVHy4', 57),\n",
       " ('https://t.co/b8xTkEAjSs', 119),\n",
       " ('https://t.co/WDL83rtqXM', 50),\n",
       " ('https://t.co/Oz1WK96fhB', 22),\n",
       " ('https://t.co/KsR9FcX6ca', 35),\n",
       " ('https://t.co/ysfXy14gqj', 45),\n",
       " ('https://t.co/selOuSBsVI', 86),\n",
       " ('https://t.co/N6rv5fWPI1', 30),\n",
       " ('https://t.co/6wGHYKlYoG', 35),\n",
       " ('https://t.co/pbNsLov3iC', 23),\n",
       " ('https://t.co/L29e1fZlvG', 69),\n",
       " ('https://t.co/A0DGQxoPXS', 29),\n",
       " ('https://t.co/iEiWrxJxgi', 22),\n",
       " ('https://t.co/0wunR4xzAF', 50),\n",
       " ('https://t.co/Rq3FCbVacE', 128),\n",
       " ('https://t.co/XuevK26JgS', 99),\n",
       " ('https://t.co/xMo1yY08J6', 21),\n",
       " ('https://t.co/ABdZX5S3O4', 21),\n",
       " ('https://t.co/S2T', 26),\n",
       " ('https://t.co/TFq', 48),\n",
       " ('https://t.co/RxFmYANd', 43),\n",
       " ('https://t.co/gS', 24),\n",
       " ('https://t.co/MAYGUTp9yZ', 24),\n",
       " ('https://t.co/YGXAr', 28),\n",
       " ('https://t.co/jP1jxI', 82),\n",
       " ('https://t.co/QJBCYXByL7', 22),\n",
       " ('https://t.co/6AcFubLWa1', 33),\n",
       " ('https://t.co/TxOXEYaRoO', 32),\n",
       " ('https://t.co/oc4WQBbVBX', 23),\n",
       " ('https://t.co/TteVPXn1Mg', 34),\n",
       " ('https://t.co/s', 23),\n",
       " ('https://t.co/W', 76),\n",
       " ('https://t.co/R', 24),\n",
       " ('https://t.co/S', 24),\n",
       " ('https://t.co/D', 30),\n",
       " ('https://t.co/K', 40),\n",
       " ('https://t.co/0', 104),\n",
       " ('https://t.co', 240),\n",
       " ('https://t.co/IgZ0Fxuuu6', 28),\n",
       " ('https://t.co/h8nSm1KqdW', 38),\n",
       " ('https://t.co/RVESJoZw1F', 115),\n",
       " ('https://t.co/zFPQGtRTOp', 61),\n",
       " ('https://t.co/qCTAiVh3Uy', 30),\n",
       " ('https://t.co/qbUZHphDpW', 80),\n",
       " ('https://t.co/vlRpnI2CWB', 33),\n",
       " ('https://t.co/gfjfV7veF5', 54),\n",
       " ('https://t.co/5pa3y6IYuh', 53),\n",
       " ('https://t.', 671),\n",
       " ('https://t.co/gttvSwvwWr', 31),\n",
       " ('https://t.co/ys3vQe8XY1', 21),\n",
       " ('https://t.co/jlaeMfwj5J', 22),\n",
       " ('https://t.co/22tQCd3B3c', 32),\n",
       " ('https://t.co/wmZN', 38),\n",
       " ('https://t.co/aDXoBlpBVp', 52),\n",
       " ('https://t.co/MWbjnK3kdt', 137),\n",
       " ('https://t.co/gmAgxK8ZvJ', 73),\n",
       " ('https://t.co/5RUspIIm5J', 42),\n",
       " ('https://t.co/hW', 25),\n",
       " ('https://t.co/JkYK7Wzx6j', 33),\n",
       " ('https://t.co/25CiyGz0cp', 37),\n",
       " ('https://t.co/2Z', 27),\n",
       " ('https://t.co/FXcrSErUdN', 115),\n",
       " ('https://t.co/HNUbRuEca0', 36),\n",
       " ('https://t.co/AVDvjHi', 51),\n",
       " ('https://t.co/sCvq', 22),\n",
       " ('https://t.co/CFQz4FbDhe', 89),\n",
       " ('https://t.co/bdXu7COoAz', 24),\n",
       " ('https://t.co/EG3RKvmjlT', 247),\n",
       " ('https://t.co/v5OmUKopBN', 24),\n",
       " ('https://t.co/vk5tUKMB', 22),\n",
       " ('https://t.co/3u5TmOz6xd', 158),\n",
       " ('https://t.co/pTrEZV3M4p', 26),\n",
       " ('https://t.co/V0qa3hlQgO', 29),\n",
       " ('https://t.co/iQfSwTgqI9', 70),\n",
       " ('https://t.co/yMItid0clI', 92),\n",
       " ('https://t.co/7ZXju6XgPp', 64),\n",
       " ('https://t.co/aFYFQjxjjr', 27),\n",
       " ('https://t.co/JVMqZYeRke', 52),\n",
       " ('https://t.co/VOPZtPFkJQ', 22),\n",
       " ('https://t.co/powkjtyt2D', 27),\n",
       " ('https://t.co/Cf0rhwHOHo', 37),\n",
       " ('https://t.co/YfcuD82ccj', 75),\n",
       " ('https://t.co/Z4twlFN8m2', 73),\n",
       " ('https://t.c', 271),\n",
       " ('https://t.co/vrSGIZL2vU', 32),\n",
       " ('https://t.co/O5YHJkWY4d', 44),\n",
       " ('https://t.co/5YuSV0H4Ko', 53),\n",
       " ('https://t.co/Had', 34),\n",
       " ('https://t.co/SqV82tkGWJ', 33),\n",
       " ('https://t.co/IrFyUbPNOf', 42),\n",
       " ('https://t.co/SCx', 25),\n",
       " ('https://t.co/zQjVF', 23),\n",
       " ('https://t.co/AfYCVVIGJP', 115),\n",
       " ('https://t.co/HjTsrnAInn', 62),\n",
       " ('https://t.co/Awz86LMoN1', 21)]"
      ]
     },
     "execution_count": 164,
     "metadata": {},
     "output_type": "execute_result"
    }
   ],
   "source": []
  },
  {
   "cell_type": "code",
   "execution_count": null,
   "metadata": {
    "collapsed": true
   },
   "outputs": [],
   "source": []
  },
  {
   "cell_type": "code",
   "execution_count": null,
   "metadata": {
    "collapsed": true
   },
   "outputs": [],
   "source": [
    "from bokeh.charts import TimeSeries, show, output_file\n",
    "from bokeh.io import gridplot, output_file, show\n",
    "from bokeh.plotting import figure\n",
    "from bokeh.models import BoxAnnotation\n",
    "\n",
    "\n",
    "yes_count = list(Bastaunsi.groupby('date').count()['id'])\n",
    "no_count = list(Iovotono.groupby('date').count()['id'])\n",
    "\n",
    "retweet_yes = list(Bastaunsi.groupby('date').sum()['retweet_count'])\n",
    "favourite_yes = list(Bastaunsi.groupby('date').sum()['favorite_count'])\n",
    "\n",
    "retweet_no = list(Iovotono.groupby('date').sum()['retweet_count'])\n",
    "favourite_no = list(Iovotono.groupby('date').sum()['favorite_count'])\n",
    "\n",
    "x = np.array([dt.datetime.strptime(d, '%Y-%m-%d') for d in date])\n",
    "\n",
    "xyvalues_count = dict([\n",
    "        #('yes', yes_count),\n",
    "        #('no', no_count),\n",
    "        ('ratio', [float(yes_count[i])/no_count[i] for i in range(len(yes_count))]),\n",
    "        ('Date', x)]\n",
    "    )\n",
    "\n",
    "\n",
    "xyvalues_retweet = dict([\n",
    "        #('retweet_yes', retweet_yes),\n",
    "        #('retweet_no', retweet_no),\n",
    "        ('retweet_ratio', [float(retweet_yes[i])/retweet_no[i] for i in range(len(retweet_yes))]),\n",
    "        ('Date', x)]\n",
    "    )\n",
    "\n",
    "xyvalues_favourite = dict([\n",
    "        #('favourite_yes', favourite_yes),\n",
    "        #('favourite_no', favourite_no),\n",
    "        ('favourite_ratio', [float(favourite_yes[i])/favourite_no[i] for i in range(len(favourite_yes))]),\n",
    "        ('Date', x)]\n",
    "    )\n",
    "\n",
    "\n",
    "output_file(\"Final.html\")\n",
    "\n",
    "p1 = TimeSeries(xyvalues_count, x='Date', legend=True,plot_width=1300, plot_height=250,\n",
    "               title=\"count\", ylabel='Number')\n",
    "\n",
    "p2 = TimeSeries(xyvalues_retweet, x='Date', legend=True,plot_width=1300, plot_height=250,\n",
    "               title=\"retweet\", ylabel='Number')\n",
    "\n",
    "p3 = TimeSeries(xyvalues_favourite, x='Date', legend=True,plot_width=1300, plot_height=250,\n",
    "               title=\"favourite\", ylabel='Number')\n",
    "\n",
    "# put all the plots in a grid layout\n",
    "p = gridplot([[p1],[p2],[p3]])\n",
    "\n",
    "# show the results\n",
    "show(p)"
   ]
  },
  {
   "cell_type": "code",
   "execution_count": null,
   "metadata": {
    "collapsed": true
   },
   "outputs": [],
   "source": [
    "Count_daily = pd.DataFrame.from_dict(xyvalues_count)\n",
    "Retweet_daily = pd.DataFrame.from_dict(xyvalues_retweet)\n",
    "Favourite_daily = pd.DataFrame.from_dict(xyvalues_favourite)\n",
    "dfs = [Count_daily, Retweet_daily,Favourite_daily]\n",
    "Daily_Stat = reduce(lambda left,right: pd.merge(left,right,on='Date'), dfs)\n",
    "Daily_Stat.to_csv('Daily_Stat.csv')"
   ]
  },
  {
   "cell_type": "code",
   "execution_count": 2,
   "metadata": {
    "collapsed": false
   },
   "outputs": [],
   "source": [
    "Bastaunsi_It = pd.read_csv('2016-10-03/Bastaunsi_It.csv')\n",
    "Iovotono_It = pd.read_csv('2016-10-03/Iovotono_It.csv')"
   ]
  },
  {
   "cell_type": "code",
   "execution_count": 3,
   "metadata": {
    "collapsed": false
   },
   "outputs": [],
   "source": [
    "Bastaunsi_It = Bastaunsi_It.dropna()\n",
    "Iovotono_It = Iovotono_It.dropna()\n",
    "# Why there are NA values?"
   ]
  },
  {
   "cell_type": "code",
   "execution_count": 4,
   "metadata": {
    "collapsed": false
   },
   "outputs": [
    {
     "ename": "KeyboardInterrupt",
     "evalue": "",
     "output_type": "error",
     "traceback": [
      "\u001b[0;31m---------------------------------------------------------------------------\u001b[0m",
      "\u001b[0;31mKeyboardInterrupt\u001b[0m                         Traceback (most recent call last)",
      "\u001b[0;32m<ipython-input-4-699e0294aab0>\u001b[0m in \u001b[0;36m<module>\u001b[0;34m()\u001b[0m\n\u001b[1;32m      1\u001b[0m \u001b[0;31m# get the clean text format\u001b[0m\u001b[0;34m\u001b[0m\u001b[0;34m\u001b[0m\u001b[0m\n\u001b[0;32m----> 2\u001b[0;31m \u001b[0mBastaunsi_It\u001b[0m\u001b[0;34m[\u001b[0m\u001b[0;34m'clean_text'\u001b[0m\u001b[0;34m]\u001b[0m \u001b[0;34m=\u001b[0m \u001b[0mBastaunsi_It\u001b[0m\u001b[0;34m[\u001b[0m\u001b[0;34m'text'\u001b[0m\u001b[0;34m]\u001b[0m\u001b[0;34m.\u001b[0m\u001b[0mapply\u001b[0m\u001b[0;34m(\u001b[0m\u001b[0mget_clean1\u001b[0m\u001b[0;34m)\u001b[0m\u001b[0;34m\u001b[0m\u001b[0m\n\u001b[0m\u001b[1;32m      3\u001b[0m \u001b[0mIovotono_It\u001b[0m\u001b[0;34m[\u001b[0m\u001b[0;34m'clean_text'\u001b[0m\u001b[0;34m]\u001b[0m \u001b[0;34m=\u001b[0m \u001b[0mIovotono_It\u001b[0m\u001b[0;34m[\u001b[0m\u001b[0;34m'text'\u001b[0m\u001b[0;34m]\u001b[0m\u001b[0;34m.\u001b[0m\u001b[0mapply\u001b[0m\u001b[0;34m(\u001b[0m\u001b[0mget_clean1\u001b[0m\u001b[0;34m)\u001b[0m\u001b[0;34m\u001b[0m\u001b[0m\n\u001b[1;32m      4\u001b[0m \u001b[0;34m\u001b[0m\u001b[0m\n\u001b[1;32m      5\u001b[0m \u001b[0mBastaunsi_Final\u001b[0m \u001b[0;34m=\u001b[0m \u001b[0mBastaunsi_It\u001b[0m\u001b[0;34m[\u001b[0m\u001b[0mBastaunsi_It\u001b[0m\u001b[0;34m[\u001b[0m\u001b[0;34m'clean_text'\u001b[0m\u001b[0;34m]\u001b[0m \u001b[0;34m!=\u001b[0m \u001b[0;36m1\u001b[0m\u001b[0;34m]\u001b[0m\u001b[0;34m\u001b[0m\u001b[0m\n",
      "\u001b[0;32m//anaconda/lib/python2.7/site-packages/pandas/core/series.pyc\u001b[0m in \u001b[0;36mapply\u001b[0;34m(self, func, convert_dtype, args, **kwds)\u001b[0m\n\u001b[1;32m   2218\u001b[0m         \u001b[0;32melse\u001b[0m\u001b[0;34m:\u001b[0m\u001b[0;34m\u001b[0m\u001b[0m\n\u001b[1;32m   2219\u001b[0m             \u001b[0mvalues\u001b[0m \u001b[0;34m=\u001b[0m \u001b[0mself\u001b[0m\u001b[0;34m.\u001b[0m\u001b[0masobject\u001b[0m\u001b[0;34m\u001b[0m\u001b[0m\n\u001b[0;32m-> 2220\u001b[0;31m             \u001b[0mmapped\u001b[0m \u001b[0;34m=\u001b[0m \u001b[0mlib\u001b[0m\u001b[0;34m.\u001b[0m\u001b[0mmap_infer\u001b[0m\u001b[0;34m(\u001b[0m\u001b[0mvalues\u001b[0m\u001b[0;34m,\u001b[0m \u001b[0mf\u001b[0m\u001b[0;34m,\u001b[0m \u001b[0mconvert\u001b[0m\u001b[0;34m=\u001b[0m\u001b[0mconvert_dtype\u001b[0m\u001b[0;34m)\u001b[0m\u001b[0;34m\u001b[0m\u001b[0m\n\u001b[0m\u001b[1;32m   2221\u001b[0m \u001b[0;34m\u001b[0m\u001b[0m\n\u001b[1;32m   2222\u001b[0m         \u001b[0;32mif\u001b[0m \u001b[0mlen\u001b[0m\u001b[0;34m(\u001b[0m\u001b[0mmapped\u001b[0m\u001b[0;34m)\u001b[0m \u001b[0;32mand\u001b[0m \u001b[0misinstance\u001b[0m\u001b[0;34m(\u001b[0m\u001b[0mmapped\u001b[0m\u001b[0;34m[\u001b[0m\u001b[0;36m0\u001b[0m\u001b[0;34m]\u001b[0m\u001b[0;34m,\u001b[0m \u001b[0mSeries\u001b[0m\u001b[0;34m)\u001b[0m\u001b[0;34m:\u001b[0m\u001b[0;34m\u001b[0m\u001b[0m\n",
      "\u001b[0;32mpandas/src/inference.pyx\u001b[0m in \u001b[0;36mpandas.lib.map_infer (pandas/lib.c:62658)\u001b[0;34m()\u001b[0m\n",
      "\u001b[0;32m/Users/yw2647/Desktop/GetOldTweets-python 2/referendum_daily.py\u001b[0m in \u001b[0;36mget_clean1\u001b[0;34m(sample, tokenizer)\u001b[0m\n\u001b[1;32m     59\u001b[0m     \u001b[0mwords\u001b[0m \u001b[0;34m=\u001b[0m \u001b[0mfilter\u001b[0m\u001b[0;34m(\u001b[0m\u001b[0mNone\u001b[0m\u001b[0;34m,\u001b[0m \u001b[0mtemp\u001b[0m\u001b[0;34m)\u001b[0m\u001b[0;34m\u001b[0m\u001b[0m\n\u001b[1;32m     60\u001b[0m     \u001b[0;32mif\u001b[0m \u001b[0mwords\u001b[0m \u001b[0;34m!=\u001b[0m \u001b[0;34m[\u001b[0m\u001b[0;34m]\u001b[0m\u001b[0;34m:\u001b[0m\u001b[0;34m\u001b[0m\u001b[0m\n\u001b[0;32m---> 61\u001b[0;31m         \u001b[0mresult\u001b[0m \u001b[0;34m=\u001b[0m \u001b[0;34m[\u001b[0m\u001b[0mitalian_stemmer\u001b[0m\u001b[0;34m.\u001b[0m\u001b[0mstem\u001b[0m\u001b[0;34m(\u001b[0m\u001b[0ml\u001b[0m\u001b[0;34m)\u001b[0m \u001b[0;32mfor\u001b[0m \u001b[0ml\u001b[0m \u001b[0;32min\u001b[0m \u001b[0mwords\u001b[0m \u001b[0;32mif\u001b[0m \u001b[0ml\u001b[0m \u001b[0;32mnot\u001b[0m \u001b[0;32min\u001b[0m \u001b[0mset\u001b[0m\u001b[0;34m(\u001b[0m\u001b[0mstop\u001b[0m\u001b[0;34m)\u001b[0m \u001b[0;32mand\u001b[0m \u001b[0ml\u001b[0m \u001b[0;34m!=\u001b[0m \u001b[0;34m'...'\u001b[0m\u001b[0;34m]\u001b[0m\u001b[0;34m\u001b[0m\u001b[0m\n\u001b[0m\u001b[1;32m     62\u001b[0m         \u001b[0;32mif\u001b[0m \u001b[0mresult\u001b[0m \u001b[0;34m!=\u001b[0m \u001b[0;34m[\u001b[0m\u001b[0;34m]\u001b[0m\u001b[0;34m:\u001b[0m\u001b[0;34m\u001b[0m\u001b[0m\n\u001b[1;32m     63\u001b[0m             \u001b[0;32mreturn\u001b[0m \u001b[0mresult\u001b[0m\u001b[0;34m\u001b[0m\u001b[0m\n",
      "\u001b[0;31mKeyboardInterrupt\u001b[0m: "
     ]
    }
   ],
   "source": [
    "# get the clean text format\n",
    "Bastaunsi_It['clean_text'] = Bastaunsi_It['text'].apply(get_clean1)\n",
    "Iovotono_It['clean_text'] = Iovotono_It['text'].apply(get_clean1)\n",
    "\n",
    "Bastaunsi_Final = Bastaunsi_It[Bastaunsi_It['clean_text'] != 1]\n",
    "Iovotono_Final = Iovotono_It[Iovotono_It['clean_text'] != 1]\n",
    "SioNo_Final = pd.concat([Bastaunsi_Final,Iovotono_Final])"
   ]
  },
  {
   "cell_type": "code",
   "execution_count": 5,
   "metadata": {
    "collapsed": false
   },
   "outputs": [],
   "source": [
    "# get the clean text format, unstemmed version\n",
    "Bastaunsi_It['clean_text1'] = Bastaunsi_It['text'].apply(get_clean)\n",
    "Iovotono_It['clean_text1'] = Iovotono_It['text'].apply(get_clean)\n",
    "\n",
    "Bastaunsi_Final = Bastaunsi_It[Bastaunsi_It['clean_text1'] != 1]\n",
    "Iovotono_Final = Iovotono_It[Iovotono_It['clean_text1'] != 1]\n",
    "SioNo_Final = pd.concat([Bastaunsi_Final,Iovotono_Final])"
   ]
  },
  {
   "cell_type": "code",
   "execution_count": 6,
   "metadata": {
    "collapsed": false
   },
   "outputs": [
    {
     "data": {
      "text/plain": [
       "(126693, 8)"
      ]
     },
     "execution_count": 6,
     "metadata": {},
     "output_type": "execute_result"
    }
   ],
   "source": [
    "SioNo_Final.shape"
   ]
  },
  {
   "cell_type": "code",
   "execution_count": 7,
   "metadata": {
    "collapsed": false
   },
   "outputs": [],
   "source": [
    "ngram_yes = DTM()\n",
    "for f in Bastaunsi_Final['clean_text1']:\n",
    "    ngram_yes.add_doc(f)\n",
    "    \n",
    "ngram_no = DTM()\n",
    "for f in Iovotono_Final['clean_text1']:\n",
    "    ngram_no.add_doc(f)\n",
    "    \n",
    "ngram_siono = DTM()\n",
    "for f in SioNo_Final['clean_text1']:\n",
    "    ngram_siono.add_doc(f)"
   ]
  },
  {
   "cell_type": "code",
   "execution_count": 107,
   "metadata": {
    "collapsed": true
   },
   "outputs": [],
   "source": [
    "bastaunsi_dict = {}\n",
    "iovotono_dict = {}\n",
    "siono_dict = {}\n",
    "\n",
    "for i in Bastaunsi_Final['clean_text']:\n",
    "    for j in i:\n",
    "        bastaunsi_dict[j] = bastaunsi_dict.get(j,0) + 1\n",
    "\n",
    "for i in Iovotono_Final['clean_text']:\n",
    "    for j in i:\n",
    "        iovotono_dict[j] = iovotono_dict.get(j,0) + 1\n",
    "        \n",
    "for i in SioNo_Final['clean_text']:\n",
    "    for j in i:\n",
    "        siono_dict[j] = siono_dict.get(j,0) + 1"
   ]
  },
  {
   "cell_type": "code",
   "execution_count": 180,
   "metadata": {
    "collapsed": true
   },
   "outputs": [],
   "source": [
    "pd.DataFrame(bastaunsi_dict.items(), columns=['words','freq']).to_csv('Final_bastaunsi.csv')\n",
    "pd.DataFrame(iovotono_dict.items(), columns=['words','freq']).to_csv('Final_iovotono.csv')"
   ]
  },
  {
   "cell_type": "code",
   "execution_count": 156,
   "metadata": {
    "collapsed": true
   },
   "outputs": [],
   "source": [
    "temp_yes = [k for k, v in bastaunsi_dict.items() if v > 2000]\n",
    "temp_no = [k for k, v in iovotono_dict.items() if v > 3000]"
   ]
  },
  {
   "cell_type": "code",
   "execution_count": 157,
   "metadata": {
    "collapsed": false
   },
   "outputs": [
    {
     "data": {
      "text/html": [
       "<div>\n",
       "<table border=\"1\" class=\"dataframe\">\n",
       "  <thead>\n",
       "    <tr style=\"text-align: right;\">\n",
       "      <th></th>\n",
       "      <th>words</th>\n",
       "      <th>freq</th>\n",
       "      <th>yes/no</th>\n",
       "    </tr>\n",
       "  </thead>\n",
       "  <tbody>\n",
       "    <tr>\n",
       "      <th>0</th>\n",
       "      <td>riformacostituzional</td>\n",
       "      <td>2323</td>\n",
       "      <td>yes</td>\n",
       "    </tr>\n",
       "    <tr>\n",
       "      <th>1</th>\n",
       "      <td>riformacostituzional</td>\n",
       "      <td>-3317</td>\n",
       "      <td>no</td>\n",
       "    </tr>\n",
       "    <tr>\n",
       "      <th>2</th>\n",
       "      <td>referendum</td>\n",
       "      <td>3393</td>\n",
       "      <td>yes</td>\n",
       "    </tr>\n",
       "    <tr>\n",
       "      <th>3</th>\n",
       "      <td>referendum</td>\n",
       "      <td>-8014</td>\n",
       "      <td>no</td>\n",
       "    </tr>\n",
       "    <tr>\n",
       "      <th>4</th>\n",
       "      <td>dicembr</td>\n",
       "      <td>3337</td>\n",
       "      <td>yes</td>\n",
       "    </tr>\n",
       "    <tr>\n",
       "      <th>5</th>\n",
       "      <td>dicembr</td>\n",
       "      <td>-9636</td>\n",
       "      <td>no</td>\n",
       "    </tr>\n",
       "    <tr>\n",
       "      <th>6</th>\n",
       "      <td>vot</td>\n",
       "      <td>4215</td>\n",
       "      <td>yes</td>\n",
       "    </tr>\n",
       "    <tr>\n",
       "      <th>7</th>\n",
       "      <td>vot</td>\n",
       "      <td>-9548</td>\n",
       "      <td>no</td>\n",
       "    </tr>\n",
       "    <tr>\n",
       "      <th>8</th>\n",
       "      <td>riform</td>\n",
       "      <td>3456</td>\n",
       "      <td>yes</td>\n",
       "    </tr>\n",
       "    <tr>\n",
       "      <th>9</th>\n",
       "      <td>riform</td>\n",
       "      <td>-5814</td>\n",
       "      <td>no</td>\n",
       "    </tr>\n",
       "    <tr>\n",
       "      <th>10</th>\n",
       "      <td>sion</td>\n",
       "      <td>5008</td>\n",
       "      <td>yes</td>\n",
       "    </tr>\n",
       "    <tr>\n",
       "      <th>11</th>\n",
       "      <td>sion</td>\n",
       "      <td>-4278</td>\n",
       "      <td>no</td>\n",
       "    </tr>\n",
       "    <tr>\n",
       "      <th>12</th>\n",
       "      <td>referendumcostituzional</td>\n",
       "      <td>2591</td>\n",
       "      <td>yes</td>\n",
       "    </tr>\n",
       "    <tr>\n",
       "      <th>13</th>\n",
       "      <td>referendumcostituzional</td>\n",
       "      <td>-11831</td>\n",
       "      <td>no</td>\n",
       "    </tr>\n",
       "    <tr>\n",
       "      <th>14</th>\n",
       "      <td>renz</td>\n",
       "      <td>5205</td>\n",
       "      <td>yes</td>\n",
       "    </tr>\n",
       "    <tr>\n",
       "      <th>15</th>\n",
       "      <td>renz</td>\n",
       "      <td>-15122</td>\n",
       "      <td>no</td>\n",
       "    </tr>\n",
       "    <tr>\n",
       "      <th>16</th>\n",
       "      <td>piu</td>\n",
       "      <td>2890</td>\n",
       "      <td>yes</td>\n",
       "    </tr>\n",
       "    <tr>\n",
       "      <th>17</th>\n",
       "      <td>piu</td>\n",
       "      <td>-5292</td>\n",
       "      <td>no</td>\n",
       "    </tr>\n",
       "  </tbody>\n",
       "</table>\n",
       "</div>"
      ],
      "text/plain": [
       "                      words   freq yes/no\n",
       "0      riformacostituzional   2323    yes\n",
       "1      riformacostituzional  -3317     no\n",
       "2                referendum   3393    yes\n",
       "3                referendum  -8014     no\n",
       "4                   dicembr   3337    yes\n",
       "5                   dicembr  -9636     no\n",
       "6                       vot   4215    yes\n",
       "7                       vot  -9548     no\n",
       "8                    riform   3456    yes\n",
       "9                    riform  -5814     no\n",
       "10                     sion   5008    yes\n",
       "11                     sion  -4278     no\n",
       "12  referendumcostituzional   2591    yes\n",
       "13  referendumcostituzional -11831     no\n",
       "14                     renz   5205    yes\n",
       "15                     renz -15122     no\n",
       "16                      piu   2890    yes\n",
       "17                      piu  -5292     no"
      ]
     },
     "execution_count": 157,
     "metadata": {},
     "output_type": "execute_result"
    }
   ],
   "source": [
    "common_words = set(temp_yes )& set(temp_no)\n",
    "temp = []\n",
    "for l in common_words:\n",
    "    if l != 'iovot':\n",
    "        temp.append((l,bastaunsi_dict.get(l),'yes'))\n",
    "        temp.append((l,-iovotono_dict.get(l),'no'))\n",
    "Temp = pd.DataFrame(temp,columns = ['words','freq','yes/no'])\n",
    "Temp"
   ]
  },
  {
   "cell_type": "code",
   "execution_count": 163,
   "metadata": {
    "collapsed": false
   },
   "outputs": [],
   "source": [
    "%matplotlib inline\n",
    "import seaborn as sns\n",
    "sns.set_context(rc={\"figure.figsize\": (15, 5)})"
   ]
  },
  {
   "cell_type": "code",
   "execution_count": 177,
   "metadata": {
    "collapsed": false
   },
   "outputs": [
    {
     "data": {
      "image/png": "[encoded data removed]",
      "text/plain": [
       "<matplotlib.figure.Figure at 0x13b401d10>"
      ]
     },
     "metadata": {},
     "output_type": "display_data"
    }
   ],
   "source": [
    "ax = sns.barplot(x=\"words\", y=\"freq\", hue=\"yes/no\",data=Temp,palette={\"yes\": \"b\", \"no\": \"r\"},)\n",
    "fig = ax.get_figure()\n",
    "fig.savefig('siono.png')"
   ]
  },
  {
   "cell_type": "code",
   "execution_count": 134,
   "metadata": {
    "collapsed": false
   },
   "outputs": [
    {
     "ename": "AttributeError",
     "evalue": "'AxesSubplot' object has no attribute 'show'",
     "output_type": "error",
     "traceback": [
      "\u001b[0;31m---------------------------------------------------------------------------\u001b[0m",
      "\u001b[0;31mAttributeError\u001b[0m                            Traceback (most recent call last)",
      "\u001b[0;32m<ipython-input-134-8de7a356e3b0>\u001b[0m in \u001b[0;36m<module>\u001b[0;34m()\u001b[0m\n\u001b[0;32m----> 1\u001b[0;31m \u001b[0max\u001b[0m\u001b[0;34m.\u001b[0m\u001b[0mshow\u001b[0m\u001b[0;34m\u001b[0m\u001b[0m\n\u001b[0m",
      "\u001b[0;31mAttributeError\u001b[0m: 'AxesSubplot' object has no attribute 'show'"
     ]
    }
   ],
   "source": []
  },
  {
   "cell_type": "code",
   "execution_count": 121,
   "metadata": {
    "collapsed": false
   },
   "outputs": [
    {
     "data": {
      "text/plain": [
       "{u'cos',\n",
       " u'dicembr',\n",
       " u'iovot',\n",
       " u'ital',\n",
       " u'perc',\n",
       " u'piu',\n",
       " u'referendum',\n",
       " u'referendumcostituzional',\n",
       " u'renz',\n",
       " u'riform',\n",
       " u'riformacostituzional',\n",
       " u'sion',\n",
       " u'vot',\n",
       " u'zagrebelsky'}"
      ]
     },
     "execution_count": 121,
     "metadata": {},
     "output_type": "execute_result"
    }
   ],
   "source": [
    "set(temp_yes ) & set(temp_no)"
   ]
  },
  {
   "cell_type": "code",
   "execution_count": 8,
   "metadata": {
    "collapsed": true
   },
   "outputs": [],
   "source": [
    "ngram_yes.write_csv('dtm_yes.csv',100)\n",
    "ngram_no.write_csv('dtm_no.csv',100)\n",
    "#ngram_siono.write_csv('dtm_siono.csv',100)"
   ]
  },
  {
   "cell_type": "code",
   "execution_count": null,
   "metadata": {
    "collapsed": true
   },
   "outputs": [],
   "source": [
    "# TF-IDF weight\n",
    "def get_tf(dtm):\n",
    "    rows = dtm.rows(cutoff = 100)\n",
    "    words = next(rows)\n",
    "\n",
    "    data = np.zeros(shape = [len(dtm.sparse),len(words)])\n",
    "    i = 0\n",
    "    for row in rows:\n",
    "        data[i,:] = row\n",
    "        i = i + 1\n",
    "        \n",
    "    tf_data = np.zeros(shape = data.shape)\n",
    "    row_sum = np.sum(data,axis=1)\n",
    "    col_sum = np.sum(data > 0,axis = 0)\n",
    "    I,J = data.shape\n",
    "    \n",
    "    for i in range(I):\n",
    "        for j in range(J):\n",
    "            if data[i,j] != 0:\n",
    "                tf_data[i,j] = (float(data[i,j])/row_sum[i]) * (float(1 + np.log(J))/(1 + np.log(col_sum[j])))\n",
    "    tf_dataframe = pd.DataFrame(tf_data,columns = words)\n",
    "    return tf_dataframe\n",
    "\n",
    "tf_yes = get_tf(ngram_yes)\n",
    "tf_no = get_tf(ngram_no)"
   ]
  },
  {
   "cell_type": "code",
   "execution_count": null,
   "metadata": {
    "collapsed": true
   },
   "outputs": [],
   "source": [
    "tf_yes.to_csv('tf_yes.csv')\n",
    "tf_no.to_csv('tf_no.csv')"
   ]
  },
  {
   "cell_type": "code",
   "execution_count": 12,
   "metadata": {
    "collapsed": false
   },
   "outputs": [
    {
     "data": {
      "text/plain": [
       "1411"
      ]
     },
     "execution_count": 12,
     "metadata": {},
     "output_type": "execute_result"
    }
   ],
   "source": [
    "rows = ngram_siono.rows(cutoff = 100)\n",
    "words = next(rows)\n",
    "len(words)"
   ]
  },
  {
   "cell_type": "code",
   "execution_count": 13,
   "metadata": {
    "collapsed": false
   },
   "outputs": [],
   "source": [
    "dataset = np.zeros(shape = [len(ngram_siono.sparse),len(words) + 1])\n",
    "i = 0\n",
    "for row in rows:\n",
    "    if i < len(ngram_yes.sparse):\n",
    "        dataset[i,:] = row + [1]\n",
    "    else:\n",
    "        dataset[i,:] = row + [0]\n",
    "    i = i + 1"
   ]
  },
  {
   "cell_type": "code",
   "execution_count": 12,
   "metadata": {
    "collapsed": false
   },
   "outputs": [
    {
     "data": {
      "text/plain": [
       "134980"
      ]
     },
     "execution_count": 12,
     "metadata": {},
     "output_type": "execute_result"
    }
   ],
   "source": []
  },
  {
   "cell_type": "code",
   "execution_count": 5,
   "metadata": {
    "collapsed": false
   },
   "outputs": [
    {
     "ename": "NameError",
     "evalue": "name 'ngram_yes' is not defined",
     "output_type": "error",
     "traceback": [
      "\u001b[0;31m---------------------------------------------------------------------------\u001b[0m",
      "\u001b[0;31mNameError\u001b[0m                                 Traceback (most recent call last)",
      "\u001b[0;32m<ipython-input-5-5a8cb5d5be1f>\u001b[0m in \u001b[0;36m<module>\u001b[0;34m()\u001b[0m\n\u001b[1;32m      1\u001b[0m \u001b[0mdataset\u001b[0m \u001b[0;34m=\u001b[0m \u001b[0mpd\u001b[0m\u001b[0;34m.\u001b[0m\u001b[0mread_csv\u001b[0m\u001b[0;34m(\u001b[0m\u001b[0;34m'dtm_siono.csv'\u001b[0m\u001b[0;34m)\u001b[0m\u001b[0;34m\u001b[0m\u001b[0m\n\u001b[1;32m      2\u001b[0m \u001b[0;34m\u001b[0m\u001b[0m\n\u001b[0;32m----> 3\u001b[0;31m \u001b[0mtarget\u001b[0m \u001b[0;34m=\u001b[0m \u001b[0mpd\u001b[0m\u001b[0;34m.\u001b[0m\u001b[0mDataFrame\u001b[0m\u001b[0;34m(\u001b[0m\u001b[0;34m[\u001b[0m\u001b[0;36m1\u001b[0m\u001b[0;34m]\u001b[0m \u001b[0;34m*\u001b[0m \u001b[0mlen\u001b[0m\u001b[0;34m(\u001b[0m\u001b[0mngram_yes\u001b[0m\u001b[0;34m.\u001b[0m\u001b[0msparse\u001b[0m\u001b[0;34m)\u001b[0m \u001b[0;34m+\u001b[0m \u001b[0;34m[\u001b[0m\u001b[0;36m0\u001b[0m\u001b[0;34m]\u001b[0m \u001b[0;34m*\u001b[0m \u001b[0mlen\u001b[0m\u001b[0;34m(\u001b[0m\u001b[0mngram_no\u001b[0m\u001b[0;34m.\u001b[0m\u001b[0msparse\u001b[0m\u001b[0;34m)\u001b[0m\u001b[0;34m)\u001b[0m\u001b[0;34m\u001b[0m\u001b[0m\n\u001b[0m\u001b[1;32m      4\u001b[0m \u001b[0;34m\u001b[0m\u001b[0m\n\u001b[1;32m      5\u001b[0m \u001b[0mraw_data\u001b[0m \u001b[0;34m=\u001b[0m \u001b[0mpd\u001b[0m\u001b[0;34m.\u001b[0m\u001b[0mconcat\u001b[0m\u001b[0;34m(\u001b[0m\u001b[0;34m[\u001b[0m\u001b[0mdataset\u001b[0m\u001b[0;34m,\u001b[0m \u001b[0mtarget\u001b[0m\u001b[0;34m]\u001b[0m\u001b[0;34m,\u001b[0m \u001b[0maxis\u001b[0m\u001b[0;34m=\u001b[0m\u001b[0;36m1\u001b[0m\u001b[0;34m)\u001b[0m\u001b[0;34m\u001b[0m\u001b[0m\n",
      "\u001b[0;31mNameError\u001b[0m: name 'ngram_yes' is not defined"
     ]
    }
   ],
   "source": [
    "dataset = pd.read_csv('dtm_siono.csv')\n",
    "\n",
    "target = pd.DataFrame([1] * len(ngram_yes.sparse) + [0] * len(ngram_no.sparse))\n",
    "\n",
    "raw_data = pd.concat([dataset, target], axis=1)\n",
    "raw_data.columns = list(dataset.columns) + ['y']\n",
    "\n",
    "#Dtm_siono = raw_data.loc[(raw_data.sum(axis=1) != 0),]"
   ]
  },
  {
   "cell_type": "code",
   "execution_count": 14,
   "metadata": {
    "collapsed": false
   },
   "outputs": [
    {
     "name": "stdout",
     "output_type": "stream",
     "text": [
      "126693\n",
      "1412\n"
     ]
    }
   ],
   "source": [
    "m,n = dataset.shape\n",
    "print m\n",
    "print n"
   ]
  },
  {
   "cell_type": "code",
   "execution_count": 10,
   "metadata": {
    "collapsed": false
   },
   "outputs": [
    {
     "name": "stdout",
     "output_type": "stream",
     "text": [
      "39036\n",
      "87651\n"
     ]
    }
   ],
   "source": [
    "print len(ngram_yes.sparse)\n",
    "print len(ngram_no.sparse)"
   ]
  },
  {
   "cell_type": "code",
   "execution_count": 11,
   "metadata": {
    "collapsed": true
   },
   "outputs": [],
   "source": [
    "def model_assessment(DTM,Model):\n",
    "    m,n = DTM.shape\n",
    "    np_siono = DTM.as_matrix()\n",
    "    train, test = train_test_split(DTM, test_size = 0.2)\n",
    "    train = train.as_matrix()\n",
    "    test = test.as_matrix()\n",
    "    model = Model\n",
    "    model.fit(train[:,0:n-1],train[:,n-1])\n",
    "    expected = test[:,n-1]\n",
    "    predicted = model.predict(test[:,0:n-1])\n",
    "    matrix = metrics.confusion_matrix(expected, predicted)\n",
    "    prob = float((matrix[0,0] + matrix[1,1]))/np.sum(matrix)\n",
    "    coef_prob = model.predict_proba(np_siono[:,0:n-1])\n",
    "    return prob,coef_prob"
   ]
  },
  {
   "cell_type": "code",
   "execution_count": 15,
   "metadata": {
    "collapsed": false
   },
   "outputs": [],
   "source": [
    "train, test = train_test_split(dataset, test_size = 0.2)\n",
    "def model_assessment(DTM,Model,train,test):\n",
    "    m,n = DTM.shape\n",
    "    #train, test = train_test_split(DTM, test_size = 0.2)\n",
    "    model = Model\n",
    "    model.fit(train[:,0:n-1],train[:,n-1])\n",
    "    expected = test[:,n-1]\n",
    "    predicted = model.predict(test[:,0:n-1])\n",
    "    matrix = metrics.confusion_matrix(expected, predicted)\n",
    "    prob = float((matrix[0,0] + matrix[1,1]))/np.sum(matrix)\n",
    "    coef_prob = model.predict_proba(DTM[:,0:n-1])\n",
    "    return prob,coef_prob"
   ]
  },
  {
   "cell_type": "code",
   "execution_count": 16,
   "metadata": {
    "collapsed": false
   },
   "outputs": [],
   "source": [
    "Ridge = model_assessment(dataset,LogisticRegression(),train,test)\n",
    "Lasso = model_assessment(dataset,LogisticRegression(penalty = 'l1'),train,test)\n",
    "Tree = model_assessment(dataset,DecisionTreeClassifier(),train,test)"
   ]
  },
  {
   "cell_type": "code",
   "execution_count": 51,
   "metadata": {
    "collapsed": false
   },
   "outputs": [
    {
     "name": "stdout",
     "output_type": "stream",
     "text": [
      "0.977898808114\n",
      "0.977740942458\n",
      "0.971268450549\n"
     ]
    }
   ],
   "source": [
    "print Ridge[0]\n",
    "print Lasso[0]\n",
    "print Tree[0]"
   ]
  },
  {
   "cell_type": "code",
   "execution_count": 17,
   "metadata": {
    "collapsed": false
   },
   "outputs": [
    {
     "name": "stdout",
     "output_type": "stream",
     "text": [
      "0.9773866372\n",
      "0.977702356052\n",
      "0.972414065275\n"
     ]
    }
   ],
   "source": [
    "print Ridge[0]\n",
    "print Lasso[0]\n",
    "print Tree[0]"
   ]
  },
  {
   "cell_type": "code",
   "execution_count": 58,
   "metadata": {
    "collapsed": true
   },
   "outputs": [],
   "source": [
    "def model_assessment(DTM,Model):\n",
    "    m,n = DTM.shape\n",
    "    np_siono = DTM.as_matrix()\n",
    "    train, test = train_test_split(DTM, test_size = 0.2)\n",
    "    train = train.as_matrix()\n",
    "    test = test.as_matrix()\n",
    "    model = Model\n",
    "    model.fit(train[:,0:n-1000],train[:,n-1])\n",
    "    expected = test[:,n-1]\n",
    "    predicted = model.predict(test[:,0:n-1000])\n",
    "    matrix = metrics.confusion_matrix(expected, predicted)\n",
    "    prob = float((matrix[0,0] + matrix[1,1]))/np.sum(matrix)\n",
    "    coef_prob = model.predict_proba(np_siono[:,0:n-1000])\n",
    "    return prob,coef_prob"
   ]
  },
  {
   "cell_type": "code",
   "execution_count": 18,
   "metadata": {
    "collapsed": true
   },
   "outputs": [],
   "source": [
    "import findspark\n",
    "import os\n",
    "findspark.init()"
   ]
  },
  {
   "cell_type": "code",
   "execution_count": 100,
   "metadata": {
    "collapsed": false
   },
   "outputs": [],
   "source": [
    "from pyspark.mllib.classification import SVMWithSGD, SVMModel\n",
    "from pyspark.mllib.regression import LabeledPoint\n",
    "\n",
    "# Load and parse the data\n",
    "def parsePoint(line):\n",
    "    values = [float(x) for x in line.split(',')]\n",
    "    return LabeledPoint(values[1411], values[0:1411])"
   ]
  },
  {
   "cell_type": "code",
   "execution_count": 49,
   "metadata": {
    "collapsed": false
   },
   "outputs": [
    {
     "ename": "ValueError",
     "evalue": "Cannot run multiple SparkContexts at once; existing SparkContext(app=pyspark-shell, master=local[*]) created by __init__ at <ipython-input-25-de3c65215398>:2 ",
     "output_type": "error",
     "traceback": [
      "\u001b[0;31m---------------------------------------------------------------------------\u001b[0m",
      "\u001b[0;31mValueError\u001b[0m                                Traceback (most recent call last)",
      "\u001b[0;32m<ipython-input-49-de3c65215398>\u001b[0m in \u001b[0;36m<module>\u001b[0;34m()\u001b[0m\n\u001b[1;32m      1\u001b[0m \u001b[0;32mfrom\u001b[0m \u001b[0mpyspark\u001b[0m \u001b[0;32mimport\u001b[0m \u001b[0mSparkContext\u001b[0m\u001b[0;34m\u001b[0m\u001b[0m\n\u001b[0;32m----> 2\u001b[0;31m \u001b[0msc\u001b[0m \u001b[0;34m=\u001b[0m\u001b[0mSparkContext\u001b[0m\u001b[0;34m(\u001b[0m\u001b[0;34m)\u001b[0m\u001b[0;34m\u001b[0m\u001b[0m\n\u001b[0m",
      "\u001b[0;32m/usr/local/opt/apache-spark/libexec/python/pyspark/context.pyc\u001b[0m in \u001b[0;36m__init__\u001b[0;34m(self, master, appName, sparkHome, pyFiles, environment, batchSize, serializer, conf, gateway, jsc, profiler_cls)\u001b[0m\n\u001b[1;32m    110\u001b[0m         \"\"\"\n\u001b[1;32m    111\u001b[0m         \u001b[0mself\u001b[0m\u001b[0;34m.\u001b[0m\u001b[0m_callsite\u001b[0m \u001b[0;34m=\u001b[0m \u001b[0mfirst_spark_call\u001b[0m\u001b[0;34m(\u001b[0m\u001b[0;34m)\u001b[0m \u001b[0;32mor\u001b[0m \u001b[0mCallSite\u001b[0m\u001b[0;34m(\u001b[0m\u001b[0mNone\u001b[0m\u001b[0;34m,\u001b[0m \u001b[0mNone\u001b[0m\u001b[0;34m,\u001b[0m \u001b[0mNone\u001b[0m\u001b[0;34m)\u001b[0m\u001b[0;34m\u001b[0m\u001b[0m\n\u001b[0;32m--> 112\u001b[0;31m         \u001b[0mSparkContext\u001b[0m\u001b[0;34m.\u001b[0m\u001b[0m_ensure_initialized\u001b[0m\u001b[0;34m(\u001b[0m\u001b[0mself\u001b[0m\u001b[0;34m,\u001b[0m \u001b[0mgateway\u001b[0m\u001b[0;34m=\u001b[0m\u001b[0mgateway\u001b[0m\u001b[0;34m)\u001b[0m\u001b[0;34m\u001b[0m\u001b[0m\n\u001b[0m\u001b[1;32m    113\u001b[0m         \u001b[0;32mtry\u001b[0m\u001b[0;34m:\u001b[0m\u001b[0;34m\u001b[0m\u001b[0m\n\u001b[1;32m    114\u001b[0m             self._do_init(master, appName, sparkHome, pyFiles, environment, batchSize, serializer,\n",
      "\u001b[0;32m/usr/local/opt/apache-spark/libexec/python/pyspark/context.pyc\u001b[0m in \u001b[0;36m_ensure_initialized\u001b[0;34m(cls, instance, gateway)\u001b[0m\n\u001b[1;32m    257\u001b[0m                         \u001b[0;34m\" created by %s at %s:%s \"\u001b[0m\u001b[0;34m\u001b[0m\u001b[0m\n\u001b[1;32m    258\u001b[0m                         % (currentAppName, currentMaster,\n\u001b[0;32m--> 259\u001b[0;31m                             callsite.function, callsite.file, callsite.linenum))\n\u001b[0m\u001b[1;32m    260\u001b[0m                 \u001b[0;32melse\u001b[0m\u001b[0;34m:\u001b[0m\u001b[0;34m\u001b[0m\u001b[0m\n\u001b[1;32m    261\u001b[0m                     \u001b[0mSparkContext\u001b[0m\u001b[0;34m.\u001b[0m\u001b[0m_active_spark_context\u001b[0m \u001b[0;34m=\u001b[0m \u001b[0minstance\u001b[0m\u001b[0;34m\u001b[0m\u001b[0m\n",
      "\u001b[0;31mValueError\u001b[0m: Cannot run multiple SparkContexts at once; existing SparkContext(app=pyspark-shell, master=local[*]) created by __init__ at <ipython-input-25-de3c65215398>:2 "
     ]
    }
   ],
   "source": [
    "from pyspark import SparkContext\n",
    "sc =SparkContext()"
   ]
  },
  {
   "cell_type": "code",
   "execution_count": 103,
   "metadata": {
    "collapsed": false
   },
   "outputs": [],
   "source": [
    "data_train = sc.textFile(\"train.txt\")\n",
    "data_test = sc.textFile(\"test.txt\")\n",
    "parsedData_train = data_train.map(parsePoint)\n",
    "parsedData_test = data_test.map(parsePoint)"
   ]
  },
  {
   "cell_type": "code",
   "execution_count": 99,
   "metadata": {
    "collapsed": false
   },
   "outputs": [],
   "source": [
    "np.savetxt('train.txt', train, delimiter=',') \n",
    "np.savetxt('test.txt', test, delimiter=',') "
   ]
  },
  {
   "cell_type": "code",
   "execution_count": 56,
   "metadata": {
    "collapsed": false
   },
   "outputs": [
    {
     "data": {
      "text/plain": [
       "1412"
      ]
     },
     "execution_count": 56,
     "metadata": {},
     "output_type": "execute_result"
    }
   ],
   "source": []
  },
  {
   "cell_type": "code",
   "execution_count": 126,
   "metadata": {
    "collapsed": false
   },
   "outputs": [
    {
     "data": {
      "text/plain": [
       "0.9768735940644856"
      ]
     },
     "execution_count": 126,
     "metadata": {},
     "output_type": "execute_result"
    }
   ],
   "source": [
    "# Build the model\n",
    "model = SVMWithSGD.train(parsedData_train, iterations=1000,convergenceTol = 0.0001)\n",
    "\n",
    "# Evaluating the model on training data\n",
    "labelsAndPreds = parsedData_test.map(lambda p: (p.label, model.predict(p.features)))\n",
    "testErr = labelsAndPreds.filter(lambda (v, p): v != p).count() / float(parsedData_test.count())\n",
    "print(\"Test Error = \" + str(testErr))"
   ]
  },
  {
   "cell_type": "code",
   "execution_count": 133,
   "metadata": {
    "collapsed": false
   },
   "outputs": [
    {
     "name": "stdout",
     "output_type": "stream",
     "text": [
      "Test Error = 0.301787758001\n"
     ]
    }
   ],
   "source": [
    "from pyspark.mllib.tree import RandomForest, RandomForestModel\n",
    "from pyspark.mllib.util import MLUtils\n",
    "\n",
    "model = RandomForest.trainClassifier(parsedData_train, numClasses=2, categoricalFeaturesInfo={},\n",
    "                                     numTrees=3, featureSubsetStrategy=\"auto\",\n",
    "                                     impurity='gini', maxDepth=4, maxBins=32)\n",
    "\n",
    "# Evaluate model on test instances and compute test error\n",
    "predictions = model.predict(parsedData_test.map(lambda x: x.features))\n",
    "labelsAndPredictions = parsedData_test.map(lambda lp: lp.label).zip(predictions)\n",
    "testErr = labelsAndPredictions.filter(lambda (v, p): v != p).count() / float(parsedData_test.count())\n",
    "print('Test Error = ' + str(testErr))\n",
    "#print('Learned classification forest model:')\n",
    "#print(model.toDebugString())"
   ]
  },
  {
   "cell_type": "code",
   "execution_count": 132,
   "metadata": {
    "collapsed": false
   },
   "outputs": [
    {
     "name": "stdout",
     "output_type": "stream",
     "text": [
      "Test Error = 0.0265203835984\n"
     ]
    }
   ],
   "source": [
    "from pyspark.mllib.tree import GradientBoostedTrees, GradientBoostedTreesModel\n",
    "from pyspark.mllib.util import MLUtils\n",
    "\n",
    "model = GradientBoostedTrees.trainClassifier(parsedData_train,\n",
    "                                             categoricalFeaturesInfo={}, numIterations=3)\n",
    "\n",
    "# Evaluate model on test instances and compute test error\n",
    "predictions = model.predict(parsedData_test.map(lambda x: x.features))\n",
    "labelsAndPredictions = parsedData_test.map(lambda lp: lp.label).zip(predictions)\n",
    "testErr = labelsAndPredictions.filter(lambda (v, p): v != p).count() / float(parsedData_test.count())\n",
    "print('Test Error = ' + str(testErr))"
   ]
  },
  {
   "cell_type": "code",
   "execution_count": null,
   "metadata": {
    "collapsed": false
   },
   "outputs": [],
   "source": [
    "SVM = model_assessment(raw_data,Model = SVC(probability=True))\n",
    "KNN = model_assessment(raw_data,Model = KNeighborsClassifier())"
   ]
  },
  {
   "cell_type": "code",
   "execution_count": 41,
   "metadata": {
    "collapsed": false
   },
   "outputs": [
    {
     "ename": "NameError",
     "evalue": "name 'KNN' is not defined",
     "output_type": "error",
     "traceback": [
      "\u001b[0;31m---------------------------------------------------------------------------\u001b[0m",
      "\u001b[0;31mNameError\u001b[0m                                 Traceback (most recent call last)",
      "\u001b[0;32m<ipython-input-41-5d8b983cfcb4>\u001b[0m in \u001b[0;36m<module>\u001b[0;34m()\u001b[0m\n\u001b[0;32m----> 1\u001b[0;31m \u001b[0;32mprint\u001b[0m \u001b[0mKNN\u001b[0m\u001b[0;34m[\u001b[0m\u001b[0;36m0\u001b[0m\u001b[0;34m]\u001b[0m\u001b[0;34m\u001b[0m\u001b[0m\n\u001b[0m\u001b[1;32m      2\u001b[0m \u001b[0;32mprint\u001b[0m \u001b[0mSVM\u001b[0m\u001b[0;34m[\u001b[0m\u001b[0;36m0\u001b[0m\u001b[0;34m]\u001b[0m\u001b[0;34m\u001b[0m\u001b[0m\n",
      "\u001b[0;31mNameError\u001b[0m: name 'KNN' is not defined"
     ]
    }
   ],
   "source": [
    "print KNN[0]\n",
    "print SVM[0]"
   ]
  },
  {
   "cell_type": "code",
   "execution_count": 14,
   "metadata": {
    "collapsed": true
   },
   "outputs": [],
   "source": [
    "prob_list = [Ridge[1][:,1],Lasso[1][:,1],Tree[1][:,1]]\n",
    "Prob = np.zeros(shape=(Ridge[1].shape[0],3))\n",
    "for i in range(3):\n",
    "    Prob[:,i] = prob_list[i]"
   ]
  },
  {
   "cell_type": "code",
   "execution_count": 15,
   "metadata": {
    "collapsed": false
   },
   "outputs": [
    {
     "data": {
      "text/html": [
       "<div>\n",
       "<table border=\"1\" class=\"dataframe\">\n",
       "  <thead>\n",
       "    <tr style=\"text-align: right;\">\n",
       "      <th></th>\n",
       "      <th>Unnamed: 0</th>\n",
       "      <th>created_at</th>\n",
       "      <th>text</th>\n",
       "      <th>retweet_count</th>\n",
       "      <th>favorite_count</th>\n",
       "      <th>id</th>\n",
       "      <th>lan</th>\n",
       "      <th>clean_text</th>\n",
       "    </tr>\n",
       "  </thead>\n",
       "  <tbody>\n",
       "    <tr>\n",
       "      <th>0</th>\n",
       "      <td>0</td>\n",
       "      <td>2016-09-16 23:53:17</td>\n",
       "      <td>RT @molinaro_enrico: @bobogiac: Massimo non me...</td>\n",
       "      <td>1.0</td>\n",
       "      <td>0.0</td>\n",
       "      <td>7.769320e+17</td>\n",
       "      <td>it</td>\n",
       "      <td>[massim, ment, stat, elett, porcellum, dalem, ...</td>\n",
       "    </tr>\n",
       "    <tr>\n",
       "      <th>1</th>\n",
       "      <td>1</td>\n",
       "      <td>2016-09-16 23:47:05</td>\n",
       "      <td>D'Alema e #Smuraglia sono i migliori sponsor c...</td>\n",
       "      <td>1.0</td>\n",
       "      <td>3.0</td>\n",
       "      <td>7.769304e+17</td>\n",
       "      <td>it</td>\n",
       "      <td>[dalem, smuragl, miglior, sponsor, pot, trov, ...</td>\n",
       "    </tr>\n",
       "    <tr>\n",
       "      <th>2</th>\n",
       "      <td>2</td>\n",
       "      <td>2016-09-16 23:45:45</td>\n",
       "      <td>RT @BelpassiJessica: E @bobogiac lascia senza ...</td>\n",
       "      <td>18.0</td>\n",
       "      <td>0.0</td>\n",
       "      <td>7.769301e+17</td>\n",
       "      <td>it</td>\n",
       "      <td>[lasc, parol, dalem, ricord, punt, programm, o...</td>\n",
       "    </tr>\n",
       "    <tr>\n",
       "      <th>3</th>\n",
       "      <td>3</td>\n",
       "      <td>2016-09-16 23:45:08</td>\n",
       "      <td>RT @aldorosati: Le leggi elettorali si fanno p...</td>\n",
       "      <td>12.0</td>\n",
       "      <td>0.0</td>\n",
       "      <td>7.769299e+17</td>\n",
       "      <td>it</td>\n",
       "      <td>[legg, elettoral, cap, poss, govern, giachett,...</td>\n",
       "    </tr>\n",
       "    <tr>\n",
       "      <th>4</th>\n",
       "      <td>4</td>\n",
       "      <td>2016-09-16 23:44:54</td>\n",
       "      <td>RT @BelpassiJessica: Vorrei ricordare a #Dalem...</td>\n",
       "      <td>14.0</td>\n",
       "      <td>0.0</td>\n",
       "      <td>7.769299e+17</td>\n",
       "      <td>it</td>\n",
       "      <td>[vorre, ricord, dalem, riform, costituzional, ...</td>\n",
       "    </tr>\n",
       "    <tr>\n",
       "      <th>5</th>\n",
       "      <td>5</td>\n",
       "      <td>2016-09-16 23:44:12</td>\n",
       "      <td>RT @AndreaMarcucci: In sintesi: non c'è riusci...</td>\n",
       "      <td>54.0</td>\n",
       "      <td>0.0</td>\n",
       "      <td>7.769297e+17</td>\n",
       "      <td>it</td>\n",
       "      <td>[sintes, ce, riusc, nonost, crost, riform, vuo...</td>\n",
       "    </tr>\n",
       "    <tr>\n",
       "      <th>6</th>\n",
       "      <td>6</td>\n",
       "      <td>2016-09-16 23:44:09</td>\n",
       "      <td>RT @aldorosati: Le leggi elettorali si fanno p...</td>\n",
       "      <td>12.0</td>\n",
       "      <td>0.0</td>\n",
       "      <td>7.769297e+17</td>\n",
       "      <td>it</td>\n",
       "      <td>[legg, elettoral, cap, poss, govern, giachett,...</td>\n",
       "    </tr>\n",
       "    <tr>\n",
       "      <th>7</th>\n",
       "      <td>7</td>\n",
       "      <td>2016-09-16 23:43:38</td>\n",
       "      <td>RT @danielecina: Col \"patto della crostata\" ne...</td>\n",
       "      <td>28.0</td>\n",
       "      <td>0.0</td>\n",
       "      <td>7.769296e+17</td>\n",
       "      <td>it</td>\n",
       "      <td>[patt, crost, treccan, giachett, mett, ko, dal...</td>\n",
       "    </tr>\n",
       "    <tr>\n",
       "      <th>8</th>\n",
       "      <td>8</td>\n",
       "      <td>2016-09-16 23:40:28</td>\n",
       "      <td>RT @bellini281: @bobogiac @bastaunsi Se l'arro...</td>\n",
       "      <td>4.0</td>\n",
       "      <td>0.0</td>\n",
       "      <td>7.769288e+17</td>\n",
       "      <td>it</td>\n",
       "      <td>[larrog, nom, chiam, dalem, bastauns]</td>\n",
       "    </tr>\n",
       "    <tr>\n",
       "      <th>9</th>\n",
       "      <td>9</td>\n",
       "      <td>2016-09-16 23:38:33</td>\n",
       "      <td>RT @AndreaMarcucci: In sintesi: non c'è riusci...</td>\n",
       "      <td>54.0</td>\n",
       "      <td>0.0</td>\n",
       "      <td>7.769283e+17</td>\n",
       "      <td>it</td>\n",
       "      <td>[sintes, ce, riusc, nonost, crost, riform, vuo...</td>\n",
       "    </tr>\n",
       "    <tr>\n",
       "      <th>10</th>\n",
       "      <td>10</td>\n",
       "      <td>2016-09-16 23:37:23</td>\n",
       "      <td>RT @ivanovillani1: #Giachetti e D'Alema in TV....</td>\n",
       "      <td>13.0</td>\n",
       "      <td>0.0</td>\n",
       "      <td>7.769280e+17</td>\n",
       "      <td>it</td>\n",
       "      <td>[giachett, dalem, tv, bob, ricord, maxim, patt...</td>\n",
       "    </tr>\n",
       "    <tr>\n",
       "      <th>11</th>\n",
       "      <td>11</td>\n",
       "      <td>2016-09-16 23:37:08</td>\n",
       "      <td>RT @AndreaMarcucci: #DAlema ha fatto una nuova...</td>\n",
       "      <td>31.0</td>\n",
       "      <td>0.0</td>\n",
       "      <td>7.769279e+17</td>\n",
       "      <td>it</td>\n",
       "      <td>[dalem, fatt, nuov, propost, riform, costituzi...</td>\n",
       "    </tr>\n",
       "    <tr>\n",
       "      <th>12</th>\n",
       "      <td>12</td>\n",
       "      <td>2016-09-16 23:36:48</td>\n",
       "      <td>RT @BelpassiJessica: La Corte costituzionale i...</td>\n",
       "      <td>25.0</td>\n",
       "      <td>0.0</td>\n",
       "      <td>7.769279e+17</td>\n",
       "      <td>it</td>\n",
       "      <td>[cort, costituzional, invit, parl, rinnov, sig...</td>\n",
       "    </tr>\n",
       "    <tr>\n",
       "      <th>13</th>\n",
       "      <td>13</td>\n",
       "      <td>2016-09-16 23:36:41</td>\n",
       "      <td>RT @ivanovillani1: #Giachetti e D'Alema in TV,...</td>\n",
       "      <td>15.0</td>\n",
       "      <td>0.0</td>\n",
       "      <td>7.769278e+17</td>\n",
       "      <td>it</td>\n",
       "      <td>[giachett, dalem, tv, domand, sorg, spontane, ...</td>\n",
       "    </tr>\n",
       "    <tr>\n",
       "      <th>14</th>\n",
       "      <td>14</td>\n",
       "      <td>2016-09-16 23:36:31</td>\n",
       "      <td>RT @ivanovillani1: #Giachetti e D'Alema in TV ...</td>\n",
       "      <td>20.0</td>\n",
       "      <td>0.0</td>\n",
       "      <td>7.769278e+17</td>\n",
       "      <td>it</td>\n",
       "      <td>[giachett, dalem, tv, referendum, organizz, ca...</td>\n",
       "    </tr>\n",
       "    <tr>\n",
       "      <th>15</th>\n",
       "      <td>15</td>\n",
       "      <td>2016-09-16 23:36:05</td>\n",
       "      <td>RT @EdiGirolami: Come invecchia male @DalemaMa...</td>\n",
       "      <td>5.0</td>\n",
       "      <td>0.0</td>\n",
       "      <td>7.769277e+17</td>\n",
       "      <td>it</td>\n",
       "      <td>[invecc, mal, poracc, pazienz, cha, bastauns]</td>\n",
       "    </tr>\n",
       "    <tr>\n",
       "      <th>16</th>\n",
       "      <td>16</td>\n",
       "      <td>2016-09-16 23:29:35</td>\n",
       "      <td>RT @bellini281: @bobogiac @bastaunsi Se l'arro...</td>\n",
       "      <td>4.0</td>\n",
       "      <td>0.0</td>\n",
       "      <td>7.769260e+17</td>\n",
       "      <td>it</td>\n",
       "      <td>[larrog, nom, chiam, dalem, bastauns]</td>\n",
       "    </tr>\n",
       "    <tr>\n",
       "      <th>17</th>\n",
       "      <td>17</td>\n",
       "      <td>2016-09-16 23:27:58</td>\n",
       "      <td>@bobogiac @bastaunsi Se l'arroganza avesse un ...</td>\n",
       "      <td>4.0</td>\n",
       "      <td>7.0</td>\n",
       "      <td>7.769256e+17</td>\n",
       "      <td>it</td>\n",
       "      <td>[larrog, nom, chiam, dalem, bastauns]</td>\n",
       "    </tr>\n",
       "    <tr>\n",
       "      <th>18</th>\n",
       "      <td>18</td>\n",
       "      <td>2016-09-16 23:20:08</td>\n",
       "      <td>RT @carlucci_cc: #giachetti ripete le stesse f...</td>\n",
       "      <td>86.0</td>\n",
       "      <td>0.0</td>\n",
       "      <td>7.769237e+17</td>\n",
       "      <td>it</td>\n",
       "      <td>[giachett, rip, frasett, scem, delleserc, ovet...</td>\n",
       "    </tr>\n",
       "    <tr>\n",
       "      <th>19</th>\n",
       "      <td>19</td>\n",
       "      <td>2016-09-16 23:18:02</td>\n",
       "      <td>RT @RobRe62: \"I diritti civili\". Ma infatti, #...</td>\n",
       "      <td>1.0</td>\n",
       "      <td>0.0</td>\n",
       "      <td>7.769231e+17</td>\n",
       "      <td>it</td>\n",
       "      <td>[diritt, civil, infatt, dalem, aspett, favor, ...</td>\n",
       "    </tr>\n",
       "    <tr>\n",
       "      <th>20</th>\n",
       "      <td>20</td>\n",
       "      <td>2016-09-16 23:16:32</td>\n",
       "      <td>RT @carlucci_cc: #giachetti ripete le stesse f...</td>\n",
       "      <td>86.0</td>\n",
       "      <td>0.0</td>\n",
       "      <td>7.769228e+17</td>\n",
       "      <td>it</td>\n",
       "      <td>[giachett, rip, frasett, scem, delleserc, ovet...</td>\n",
       "    </tr>\n",
       "    <tr>\n",
       "      <th>21</th>\n",
       "      <td>21</td>\n",
       "      <td>2016-09-16 23:16:20</td>\n",
       "      <td>@EEnricoielasi @Lcungi Speriamo sia la volta b...</td>\n",
       "      <td>1.0</td>\n",
       "      <td>1.0</td>\n",
       "      <td>7.769227e+17</td>\n",
       "      <td>it</td>\n",
       "      <td>[sper, volt, buon, bastauns]</td>\n",
       "    </tr>\n",
       "    <tr>\n",
       "      <th>22</th>\n",
       "      <td>22</td>\n",
       "      <td>2016-09-16 23:14:20</td>\n",
       "      <td>RT @carlucci_cc: #giachetti ripete le stesse f...</td>\n",
       "      <td>86.0</td>\n",
       "      <td>0.0</td>\n",
       "      <td>7.769222e+17</td>\n",
       "      <td>it</td>\n",
       "      <td>[giachett, rip, frasett, scem, delleserc, ovet...</td>\n",
       "    </tr>\n",
       "    <tr>\n",
       "      <th>23</th>\n",
       "      <td>23</td>\n",
       "      <td>2016-09-16 23:13:35</td>\n",
       "      <td>RT @lorenzabo: Per D'Alema il problema è la ra...</td>\n",
       "      <td>21.0</td>\n",
       "      <td>0.0</td>\n",
       "      <td>7.769220e+17</td>\n",
       "      <td>it</td>\n",
       "      <td>[dalem, problem, rappresent, govern, paes, ora...</td>\n",
       "    </tr>\n",
       "    <tr>\n",
       "      <th>24</th>\n",
       "      <td>24</td>\n",
       "      <td>2016-09-16 23:13:30</td>\n",
       "      <td>RT @AndreaMarcucci: In sintesi: non c'è riusci...</td>\n",
       "      <td>54.0</td>\n",
       "      <td>0.0</td>\n",
       "      <td>7.769220e+17</td>\n",
       "      <td>it</td>\n",
       "      <td>[sintes, ce, riusc, nonost, crost, riform, vuo...</td>\n",
       "    </tr>\n",
       "    <tr>\n",
       "      <th>25</th>\n",
       "      <td>25</td>\n",
       "      <td>2016-09-16 23:13:04</td>\n",
       "      <td>RT @AlessioPecoraro: Al vostro meglio è che le...</td>\n",
       "      <td>20.0</td>\n",
       "      <td>0.0</td>\n",
       "      <td>7.769219e+17</td>\n",
       "      <td>it</td>\n",
       "      <td>[megl, cos, mai, bravissim, massim, dalem, sio...</td>\n",
       "    </tr>\n",
       "    <tr>\n",
       "      <th>26</th>\n",
       "      <td>26</td>\n",
       "      <td>2016-09-16 23:12:53</td>\n",
       "      <td>RT @ELiberati: D'Alema esce allo scoperto a so...</td>\n",
       "      <td>10.0</td>\n",
       "      <td>0.0</td>\n",
       "      <td>7.769218e+17</td>\n",
       "      <td>it</td>\n",
       "      <td>[dalem, esce, scopert, sostegn, conserv, alias...</td>\n",
       "    </tr>\n",
       "    <tr>\n",
       "      <th>27</th>\n",
       "      <td>27</td>\n",
       "      <td>2016-09-16 23:12:03</td>\n",
       "      <td>RT @AndreaMarcucci: In sintesi: non c'è riusci...</td>\n",
       "      <td>54.0</td>\n",
       "      <td>0.0</td>\n",
       "      <td>7.769216e+17</td>\n",
       "      <td>it</td>\n",
       "      <td>[sintes, ce, riusc, nonost, crost, riform, vuo...</td>\n",
       "    </tr>\n",
       "    <tr>\n",
       "      <th>28</th>\n",
       "      <td>28</td>\n",
       "      <td>2016-09-16 23:10:07</td>\n",
       "      <td>D\"Alema colpito ed affondato da #Giachetti ric...</td>\n",
       "      <td>1.0</td>\n",
       "      <td>3.0</td>\n",
       "      <td>7.769211e+17</td>\n",
       "      <td>it</td>\n",
       "      <td>[d, alem, colp, affond, giachett, ricord, patt...</td>\n",
       "    </tr>\n",
       "    <tr>\n",
       "      <th>29</th>\n",
       "      <td>29</td>\n",
       "      <td>2016-09-16 23:09:44</td>\n",
       "      <td>RT @AndreaMarcucci: In sintesi: non c'è riusci...</td>\n",
       "      <td>54.0</td>\n",
       "      <td>0.0</td>\n",
       "      <td>7.769210e+17</td>\n",
       "      <td>it</td>\n",
       "      <td>[sintes, ce, riusc, nonost, crost, riform, vuo...</td>\n",
       "    </tr>\n",
       "    <tr>\n",
       "      <th>...</th>\n",
       "      <td>...</td>\n",
       "      <td>...</td>\n",
       "      <td>...</td>\n",
       "      <td>...</td>\n",
       "      <td>...</td>\n",
       "      <td>...</td>\n",
       "      <td>...</td>\n",
       "      <td>...</td>\n",
       "    </tr>\n",
       "    <tr>\n",
       "      <th>88184</th>\n",
       "      <td>7402</td>\n",
       "      <td>2016-10-02 00:24:46</td>\n",
       "      <td>RT @nellylamorte: #Napolitano, ma quali errori...</td>\n",
       "      <td>2.0</td>\n",
       "      <td>0.0</td>\n",
       "      <td>7.823757e+17</td>\n",
       "      <td>it</td>\n",
       "      <td>[napolit, qual, error, fatt, riformacostituzio...</td>\n",
       "    </tr>\n",
       "    <tr>\n",
       "      <th>88185</th>\n",
       "      <td>7403</td>\n",
       "      <td>2016-10-02 00:24:44</td>\n",
       "      <td>RT @Virus1979C: Referendum: \"Napolitano, con \"...</td>\n",
       "      <td>56.0</td>\n",
       "      <td>0.0</td>\n",
       "      <td>7.823757e+17</td>\n",
       "      <td>it</td>\n",
       "      <td>[referendum, napolit, parl, torn, degn, parl, ...</td>\n",
       "    </tr>\n",
       "    <tr>\n",
       "      <th>88186</th>\n",
       "      <td>7404</td>\n",
       "      <td>2016-10-02 00:24:29</td>\n",
       "      <td>RT @Movimento_5s: #Piazzapulita CAZZARO cacati...</td>\n",
       "      <td>3.0</td>\n",
       "      <td>0.0</td>\n",
       "      <td>7.823757e+17</td>\n",
       "      <td>it</td>\n",
       "      <td>[piazzapul, cazzar, cac, man, prend, schiaff, ...</td>\n",
       "    </tr>\n",
       "    <tr>\n",
       "      <th>88187</th>\n",
       "      <td>7406</td>\n",
       "      <td>2016-10-02 00:21:39</td>\n",
       "      <td>RT @Reset_Italia: Contro la banda di farabutti...</td>\n",
       "      <td>14.0</td>\n",
       "      <td>0.0</td>\n",
       "      <td>7.823750e+17</td>\n",
       "      <td>it</td>\n",
       "      <td>[band, farabutt, vuol, sporc, meravigl, costit...</td>\n",
       "    </tr>\n",
       "    <tr>\n",
       "      <th>88188</th>\n",
       "      <td>7407</td>\n",
       "      <td>2016-10-02 00:21:10</td>\n",
       "      <td>RT @AurelianoFerri: Vincerà il No e il voto sa...</td>\n",
       "      <td>6.0</td>\n",
       "      <td>0.0</td>\n",
       "      <td>7.823748e+17</td>\n",
       "      <td>it</td>\n",
       "      <td>[vincer, vot, sar, bomb, interv, rin, formic, ...</td>\n",
       "    </tr>\n",
       "    <tr>\n",
       "      <th>88189</th>\n",
       "      <td>7408</td>\n",
       "      <td>2016-10-02 00:18:18</td>\n",
       "      <td>RT @ANTIPOLLITICA: La #Schiforma della Costitu...</td>\n",
       "      <td>3.0</td>\n",
       "      <td>0.0</td>\n",
       "      <td>7.823741e+17</td>\n",
       "      <td>it</td>\n",
       "      <td>[schiform, costitu, induc, sol, rispost, lelet...</td>\n",
       "    </tr>\n",
       "    <tr>\n",
       "      <th>88190</th>\n",
       "      <td>7409</td>\n",
       "      <td>2016-10-02 00:17:41</td>\n",
       "      <td>RT @nellylamorte: #Napolitano, ma quali errori...</td>\n",
       "      <td>2.0</td>\n",
       "      <td>0.0</td>\n",
       "      <td>7.823740e+17</td>\n",
       "      <td>it</td>\n",
       "      <td>[napolit, qual, error, fatt, riformacostituzio...</td>\n",
       "    </tr>\n",
       "    <tr>\n",
       "      <th>88191</th>\n",
       "      <td>7410</td>\n",
       "      <td>2016-10-02 00:16:47</td>\n",
       "      <td>RT @Penelopy2000: Ma i giovani piddini vengono...</td>\n",
       "      <td>15.0</td>\n",
       "      <td>0.0</td>\n",
       "      <td>7.823737e+17</td>\n",
       "      <td>it</td>\n",
       "      <td>[giovan, piddin, veng, form, questuom, iovot, ...</td>\n",
       "    </tr>\n",
       "    <tr>\n",
       "      <th>88192</th>\n",
       "      <td>7411</td>\n",
       "      <td>2016-10-02 00:16:00</td>\n",
       "      <td>RT @dukana2: Accoglienza\"riservata\"a eurodeput...</td>\n",
       "      <td>94.0</td>\n",
       "      <td>0.0</td>\n",
       "      <td>7.823735e+17</td>\n",
       "      <td>it</td>\n",
       "      <td>[accoglit, riserv, eurodeput, pd, giann, pitte...</td>\n",
       "    </tr>\n",
       "    <tr>\n",
       "      <th>88193</th>\n",
       "      <td>7412</td>\n",
       "      <td>2016-10-02 00:15:31</td>\n",
       "      <td>#CarPooling primo passo per una legge targata ...</td>\n",
       "      <td>3.0</td>\n",
       "      <td>1.0</td>\n",
       "      <td>7.823734e+17</td>\n",
       "      <td>it</td>\n",
       "      <td>[carpooling, prim, pass, legg, targ, m, s, m, ...</td>\n",
       "    </tr>\n",
       "    <tr>\n",
       "      <th>88194</th>\n",
       "      <td>7413</td>\n",
       "      <td>2016-10-02 00:14:43</td>\n",
       "      <td>RT @antonio_bordin: Banche ed industriali per ...</td>\n",
       "      <td>72.0</td>\n",
       "      <td>0.0</td>\n",
       "      <td>7.823732e+17</td>\n",
       "      <td>it</td>\n",
       "      <td>[banc, industrial, ora, manc, sol, lucciardon,...</td>\n",
       "    </tr>\n",
       "    <tr>\n",
       "      <th>88195</th>\n",
       "      <td>7414</td>\n",
       "      <td>2016-10-02 00:14:16</td>\n",
       "      <td>@tonyooooo0 @eliolannutti come diceva Renzie #...</td>\n",
       "      <td>0.0</td>\n",
       "      <td>0.0</td>\n",
       "      <td>7.823731e+17</td>\n",
       "      <td>it</td>\n",
       "      <td>[dic, renz, pontesullostrett, scemenz, scem, o...</td>\n",
       "    </tr>\n",
       "    <tr>\n",
       "      <th>88196</th>\n",
       "      <td>7415</td>\n",
       "      <td>2016-10-02 00:14:10</td>\n",
       "      <td>Ma l'Italia é popolata per lo più da dormienti...</td>\n",
       "      <td>1.0</td>\n",
       "      <td>0.0</td>\n",
       "      <td>7.823731e+17</td>\n",
       "      <td>it</td>\n",
       "      <td>[lital, popol, piu, dormient, legg, ques, vote...</td>\n",
       "    </tr>\n",
       "    <tr>\n",
       "      <th>88197</th>\n",
       "      <td>7416</td>\n",
       "      <td>2016-10-02 00:13:53</td>\n",
       "      <td>RT @ricci_davide77: Per una persona mediamente...</td>\n",
       "      <td>1258.0</td>\n",
       "      <td>0.0</td>\n",
       "      <td>7.823730e+17</td>\n",
       "      <td>it</td>\n",
       "      <td>[person, med, intelligent, bast, vot, zagrebel...</td>\n",
       "    </tr>\n",
       "    <tr>\n",
       "      <th>88198</th>\n",
       "      <td>7417</td>\n",
       "      <td>2016-10-02 00:13:12</td>\n",
       "      <td>RT @Reset_Italia: Contro la banda di farabutti...</td>\n",
       "      <td>14.0</td>\n",
       "      <td>0.0</td>\n",
       "      <td>7.823728e+17</td>\n",
       "      <td>it</td>\n",
       "      <td>[band, farabutt, vuol, sporc, meravigl, costit...</td>\n",
       "    </tr>\n",
       "    <tr>\n",
       "      <th>88199</th>\n",
       "      <td>7418</td>\n",
       "      <td>2016-10-02 00:12:53</td>\n",
       "      <td>RT @ricci_davide77: Per una persona mediamente...</td>\n",
       "      <td>1258.0</td>\n",
       "      <td>0.0</td>\n",
       "      <td>7.823727e+17</td>\n",
       "      <td>it</td>\n",
       "      <td>[person, med, intelligent, bast, vot, zagrebel...</td>\n",
       "    </tr>\n",
       "    <tr>\n",
       "      <th>88200</th>\n",
       "      <td>7419</td>\n",
       "      <td>2016-10-02 00:11:08</td>\n",
       "      <td>RT @Reset_Italia: Contro la banda di farabutti...</td>\n",
       "      <td>14.0</td>\n",
       "      <td>0.0</td>\n",
       "      <td>7.823723e+17</td>\n",
       "      <td>it</td>\n",
       "      <td>[band, farabutt, vuol, sporc, meravigl, costit...</td>\n",
       "    </tr>\n",
       "    <tr>\n",
       "      <th>88201</th>\n",
       "      <td>7420</td>\n",
       "      <td>2016-10-02 00:10:13</td>\n",
       "      <td>#Napolitano, ma quali errori? Se hai fatto tut...</td>\n",
       "      <td>2.0</td>\n",
       "      <td>0.0</td>\n",
       "      <td>7.823721e+17</td>\n",
       "      <td>it</td>\n",
       "      <td>[napolit, qual, error, fatt, riformacostituzio...</td>\n",
       "    </tr>\n",
       "    <tr>\n",
       "      <th>88202</th>\n",
       "      <td>7421</td>\n",
       "      <td>2016-10-02 00:10:11</td>\n",
       "      <td>RT @grilliserafino: Verrai sepolto da una mont...</td>\n",
       "      <td>50.0</td>\n",
       "      <td>0.0</td>\n",
       "      <td>7.823721e+17</td>\n",
       "      <td>it</td>\n",
       "      <td>[verra, sepolt, montagn, iovot, referendumcost...</td>\n",
       "    </tr>\n",
       "    <tr>\n",
       "      <th>88203</th>\n",
       "      <td>7422</td>\n",
       "      <td>2016-10-02 00:09:13</td>\n",
       "      <td>RT @slavina6: @pietropasquini3 Roma cambierà v...</td>\n",
       "      <td>10.0</td>\n",
       "      <td>0.0</td>\n",
       "      <td>7.823718e+17</td>\n",
       "      <td>it</td>\n",
       "      <td>[rom, cambier, volt, qualc, temp, sar, fin, io...</td>\n",
       "    </tr>\n",
       "    <tr>\n",
       "      <th>88204</th>\n",
       "      <td>7423</td>\n",
       "      <td>2016-10-02 00:08:42</td>\n",
       "      <td>RT @ANTIPOLLITICA: La #Schiforma della Costitu...</td>\n",
       "      <td>3.0</td>\n",
       "      <td>0.0</td>\n",
       "      <td>7.823717e+17</td>\n",
       "      <td>it</td>\n",
       "      <td>[schiform, costitu, induc, sol, rispost, lelet...</td>\n",
       "    </tr>\n",
       "    <tr>\n",
       "      <th>88205</th>\n",
       "      <td>7424</td>\n",
       "      <td>2016-10-02 00:08:04</td>\n",
       "      <td>Io l'unica cosa che non riesco davvero a capir...</td>\n",
       "      <td>0.0</td>\n",
       "      <td>2.0</td>\n",
       "      <td>7.823715e+17</td>\n",
       "      <td>it</td>\n",
       "      <td>[lunic, cos, riesc, davver, cap, puo, lottante...</td>\n",
       "    </tr>\n",
       "    <tr>\n",
       "      <th>88206</th>\n",
       "      <td>7425</td>\n",
       "      <td>2016-10-02 00:07:51</td>\n",
       "      <td>Fim Completo Italiano NO – I GIORNI DELL’ARCOB...</td>\n",
       "      <td>0.0</td>\n",
       "      <td>0.0</td>\n",
       "      <td>7.823715e+17</td>\n",
       "      <td>it</td>\n",
       "      <td>[fim, complet, ital, giorn, arcobalen, final, ...</td>\n",
       "    </tr>\n",
       "    <tr>\n",
       "      <th>88207</th>\n",
       "      <td>7426</td>\n",
       "      <td>2016-10-02 00:05:41</td>\n",
       "      <td>RT @grilliserafino: Verrai sepolto da una mont...</td>\n",
       "      <td>50.0</td>\n",
       "      <td>0.0</td>\n",
       "      <td>7.823709e+17</td>\n",
       "      <td>it</td>\n",
       "      <td>[verra, sepolt, montagn, iovot, referendumcost...</td>\n",
       "    </tr>\n",
       "    <tr>\n",
       "      <th>88208</th>\n",
       "      <td>7427</td>\n",
       "      <td>2016-10-02 00:04:57</td>\n",
       "      <td>Fim Completo Italiano NO – I GIORNI DELL’ARCOB...</td>\n",
       "      <td>1.0</td>\n",
       "      <td>0.0</td>\n",
       "      <td>7.823708e+17</td>\n",
       "      <td>it</td>\n",
       "      <td>[fim, complet, ital, giorn, arcobalen, final, ...</td>\n",
       "    </tr>\n",
       "    <tr>\n",
       "      <th>88209</th>\n",
       "      <td>7428</td>\n",
       "      <td>2016-10-02 00:04:15</td>\n",
       "      <td>RT @bastaCasta: Entrambi pessimi soggetti poli...</td>\n",
       "      <td>4.0</td>\n",
       "      <td>0.0</td>\n",
       "      <td>7.823706e+17</td>\n",
       "      <td>it</td>\n",
       "      <td>[entramb, pessim, soggett, polit, iovot]</td>\n",
       "    </tr>\n",
       "    <tr>\n",
       "      <th>88210</th>\n",
       "      <td>7429</td>\n",
       "      <td>2016-10-02 00:04:15</td>\n",
       "      <td>RT @akavetta: Ho più fiducia in Wanna Marchi e...</td>\n",
       "      <td>34.0</td>\n",
       "      <td>0.0</td>\n",
       "      <td>7.823706e+17</td>\n",
       "      <td>it</td>\n",
       "      <td>[piu, fiduc, wann, marc, mag, do, nasc, renz, ...</td>\n",
       "    </tr>\n",
       "    <tr>\n",
       "      <th>88211</th>\n",
       "      <td>7430</td>\n",
       "      <td>2016-10-02 00:03:36</td>\n",
       "      <td>RT @akavetta: Ho più fiducia in Wanna Marchi e...</td>\n",
       "      <td>34.0</td>\n",
       "      <td>0.0</td>\n",
       "      <td>7.823704e+17</td>\n",
       "      <td>it</td>\n",
       "      <td>[piu, fiduc, wann, marc, mag, do, nasc, renz, ...</td>\n",
       "    </tr>\n",
       "    <tr>\n",
       "      <th>88212</th>\n",
       "      <td>7431</td>\n",
       "      <td>2016-10-02 00:02:54</td>\n",
       "      <td>RT @grilliserafino: Verrai sepolto da una mont...</td>\n",
       "      <td>50.0</td>\n",
       "      <td>0.0</td>\n",
       "      <td>7.823702e+17</td>\n",
       "      <td>it</td>\n",
       "      <td>[verra, sepolt, montagn, iovot, referendumcost...</td>\n",
       "    </tr>\n",
       "    <tr>\n",
       "      <th>88213</th>\n",
       "      <td>7432</td>\n",
       "      <td>2016-10-02 00:00:11</td>\n",
       "      <td>RT @slavina6: Appello ai lettori e agli artist...</td>\n",
       "      <td>5.0</td>\n",
       "      <td>0.0</td>\n",
       "      <td>7.823696e+17</td>\n",
       "      <td>it</td>\n",
       "      <td>[appell, lettor, artist, iovot, iodic, referen...</td>\n",
       "    </tr>\n",
       "  </tbody>\n",
       "</table>\n",
       "<p>126687 rows × 8 columns</p>\n",
       "</div>"
      ],
      "text/plain": [
       "      Unnamed: 0           created_at  \\\n",
       "0              0  2016-09-16 23:53:17   \n",
       "1              1  2016-09-16 23:47:05   \n",
       "2              2  2016-09-16 23:45:45   \n",
       "3              3  2016-09-16 23:45:08   \n",
       "4              4  2016-09-16 23:44:54   \n",
       "5              5  2016-09-16 23:44:12   \n",
       "6              6  2016-09-16 23:44:09   \n",
       "7              7  2016-09-16 23:43:38   \n",
       "8              8  2016-09-16 23:40:28   \n",
       "9              9  2016-09-16 23:38:33   \n",
       "10            10  2016-09-16 23:37:23   \n",
       "11            11  2016-09-16 23:37:08   \n",
       "12            12  2016-09-16 23:36:48   \n",
       "13            13  2016-09-16 23:36:41   \n",
       "14            14  2016-09-16 23:36:31   \n",
       "15            15  2016-09-16 23:36:05   \n",
       "16            16  2016-09-16 23:29:35   \n",
       "17            17  2016-09-16 23:27:58   \n",
       "18            18  2016-09-16 23:20:08   \n",
       "19            19  2016-09-16 23:18:02   \n",
       "20            20  2016-09-16 23:16:32   \n",
       "21            21  2016-09-16 23:16:20   \n",
       "22            22  2016-09-16 23:14:20   \n",
       "23            23  2016-09-16 23:13:35   \n",
       "24            24  2016-09-16 23:13:30   \n",
       "25            25  2016-09-16 23:13:04   \n",
       "26            26  2016-09-16 23:12:53   \n",
       "27            27  2016-09-16 23:12:03   \n",
       "28            28  2016-09-16 23:10:07   \n",
       "29            29  2016-09-16 23:09:44   \n",
       "...          ...                  ...   \n",
       "88184       7402  2016-10-02 00:24:46   \n",
       "88185       7403  2016-10-02 00:24:44   \n",
       "88186       7404  2016-10-02 00:24:29   \n",
       "88187       7406  2016-10-02 00:21:39   \n",
       "88188       7407  2016-10-02 00:21:10   \n",
       "88189       7408  2016-10-02 00:18:18   \n",
       "88190       7409  2016-10-02 00:17:41   \n",
       "88191       7410  2016-10-02 00:16:47   \n",
       "88192       7411  2016-10-02 00:16:00   \n",
       "88193       7412  2016-10-02 00:15:31   \n",
       "88194       7413  2016-10-02 00:14:43   \n",
       "88195       7414  2016-10-02 00:14:16   \n",
       "88196       7415  2016-10-02 00:14:10   \n",
       "88197       7416  2016-10-02 00:13:53   \n",
       "88198       7417  2016-10-02 00:13:12   \n",
       "88199       7418  2016-10-02 00:12:53   \n",
       "88200       7419  2016-10-02 00:11:08   \n",
       "88201       7420  2016-10-02 00:10:13   \n",
       "88202       7421  2016-10-02 00:10:11   \n",
       "88203       7422  2016-10-02 00:09:13   \n",
       "88204       7423  2016-10-02 00:08:42   \n",
       "88205       7424  2016-10-02 00:08:04   \n",
       "88206       7425  2016-10-02 00:07:51   \n",
       "88207       7426  2016-10-02 00:05:41   \n",
       "88208       7427  2016-10-02 00:04:57   \n",
       "88209       7428  2016-10-02 00:04:15   \n",
       "88210       7429  2016-10-02 00:04:15   \n",
       "88211       7430  2016-10-02 00:03:36   \n",
       "88212       7431  2016-10-02 00:02:54   \n",
       "88213       7432  2016-10-02 00:00:11   \n",
       "\n",
       "                                                    text  retweet_count  \\\n",
       "0      RT @molinaro_enrico: @bobogiac: Massimo non me...            1.0   \n",
       "1      D'Alema e #Smuraglia sono i migliori sponsor c...            1.0   \n",
       "2      RT @BelpassiJessica: E @bobogiac lascia senza ...           18.0   \n",
       "3      RT @aldorosati: Le leggi elettorali si fanno p...           12.0   \n",
       "4      RT @BelpassiJessica: Vorrei ricordare a #Dalem...           14.0   \n",
       "5      RT @AndreaMarcucci: In sintesi: non c'è riusci...           54.0   \n",
       "6      RT @aldorosati: Le leggi elettorali si fanno p...           12.0   \n",
       "7      RT @danielecina: Col \"patto della crostata\" ne...           28.0   \n",
       "8      RT @bellini281: @bobogiac @bastaunsi Se l'arro...            4.0   \n",
       "9      RT @AndreaMarcucci: In sintesi: non c'è riusci...           54.0   \n",
       "10     RT @ivanovillani1: #Giachetti e D'Alema in TV....           13.0   \n",
       "11     RT @AndreaMarcucci: #DAlema ha fatto una nuova...           31.0   \n",
       "12     RT @BelpassiJessica: La Corte costituzionale i...           25.0   \n",
       "13     RT @ivanovillani1: #Giachetti e D'Alema in TV,...           15.0   \n",
       "14     RT @ivanovillani1: #Giachetti e D'Alema in TV ...           20.0   \n",
       "15     RT @EdiGirolami: Come invecchia male @DalemaMa...            5.0   \n",
       "16     RT @bellini281: @bobogiac @bastaunsi Se l'arro...            4.0   \n",
       "17     @bobogiac @bastaunsi Se l'arroganza avesse un ...            4.0   \n",
       "18     RT @carlucci_cc: #giachetti ripete le stesse f...           86.0   \n",
       "19     RT @RobRe62: \"I diritti civili\". Ma infatti, #...            1.0   \n",
       "20     RT @carlucci_cc: #giachetti ripete le stesse f...           86.0   \n",
       "21     @EEnricoielasi @Lcungi Speriamo sia la volta b...            1.0   \n",
       "22     RT @carlucci_cc: #giachetti ripete le stesse f...           86.0   \n",
       "23     RT @lorenzabo: Per D'Alema il problema è la ra...           21.0   \n",
       "24     RT @AndreaMarcucci: In sintesi: non c'è riusci...           54.0   \n",
       "25     RT @AlessioPecoraro: Al vostro meglio è che le...           20.0   \n",
       "26     RT @ELiberati: D'Alema esce allo scoperto a so...           10.0   \n",
       "27     RT @AndreaMarcucci: In sintesi: non c'è riusci...           54.0   \n",
       "28     D\"Alema colpito ed affondato da #Giachetti ric...            1.0   \n",
       "29     RT @AndreaMarcucci: In sintesi: non c'è riusci...           54.0   \n",
       "...                                                  ...            ...   \n",
       "88184  RT @nellylamorte: #Napolitano, ma quali errori...            2.0   \n",
       "88185  RT @Virus1979C: Referendum: \"Napolitano, con \"...           56.0   \n",
       "88186  RT @Movimento_5s: #Piazzapulita CAZZARO cacati...            3.0   \n",
       "88187  RT @Reset_Italia: Contro la banda di farabutti...           14.0   \n",
       "88188  RT @AurelianoFerri: Vincerà il No e il voto sa...            6.0   \n",
       "88189  RT @ANTIPOLLITICA: La #Schiforma della Costitu...            3.0   \n",
       "88190  RT @nellylamorte: #Napolitano, ma quali errori...            2.0   \n",
       "88191  RT @Penelopy2000: Ma i giovani piddini vengono...           15.0   \n",
       "88192  RT @dukana2: Accoglienza\"riservata\"a eurodeput...           94.0   \n",
       "88193  #CarPooling primo passo per una legge targata ...            3.0   \n",
       "88194  RT @antonio_bordin: Banche ed industriali per ...           72.0   \n",
       "88195  @tonyooooo0 @eliolannutti come diceva Renzie #...            0.0   \n",
       "88196  Ma l'Italia é popolata per lo più da dormienti...            1.0   \n",
       "88197  RT @ricci_davide77: Per una persona mediamente...         1258.0   \n",
       "88198  RT @Reset_Italia: Contro la banda di farabutti...           14.0   \n",
       "88199  RT @ricci_davide77: Per una persona mediamente...         1258.0   \n",
       "88200  RT @Reset_Italia: Contro la banda di farabutti...           14.0   \n",
       "88201  #Napolitano, ma quali errori? Se hai fatto tut...            2.0   \n",
       "88202  RT @grilliserafino: Verrai sepolto da una mont...           50.0   \n",
       "88203  RT @slavina6: @pietropasquini3 Roma cambierà v...           10.0   \n",
       "88204  RT @ANTIPOLLITICA: La #Schiforma della Costitu...            3.0   \n",
       "88205  Io l'unica cosa che non riesco davvero a capir...            0.0   \n",
       "88206  Fim Completo Italiano NO – I GIORNI DELL’ARCOB...            0.0   \n",
       "88207  RT @grilliserafino: Verrai sepolto da una mont...           50.0   \n",
       "88208  Fim Completo Italiano NO – I GIORNI DELL’ARCOB...            1.0   \n",
       "88209  RT @bastaCasta: Entrambi pessimi soggetti poli...            4.0   \n",
       "88210  RT @akavetta: Ho più fiducia in Wanna Marchi e...           34.0   \n",
       "88211  RT @akavetta: Ho più fiducia in Wanna Marchi e...           34.0   \n",
       "88212  RT @grilliserafino: Verrai sepolto da una mont...           50.0   \n",
       "88213  RT @slavina6: Appello ai lettori e agli artist...            5.0   \n",
       "\n",
       "      favorite_count            id lan  \\\n",
       "0                0.0  7.769320e+17  it   \n",
       "1                3.0  7.769304e+17  it   \n",
       "2                0.0  7.769301e+17  it   \n",
       "3                0.0  7.769299e+17  it   \n",
       "4                0.0  7.769299e+17  it   \n",
       "5                0.0  7.769297e+17  it   \n",
       "6                0.0  7.769297e+17  it   \n",
       "7                0.0  7.769296e+17  it   \n",
       "8                0.0  7.769288e+17  it   \n",
       "9                0.0  7.769283e+17  it   \n",
       "10               0.0  7.769280e+17  it   \n",
       "11               0.0  7.769279e+17  it   \n",
       "12               0.0  7.769279e+17  it   \n",
       "13               0.0  7.769278e+17  it   \n",
       "14               0.0  7.769278e+17  it   \n",
       "15               0.0  7.769277e+17  it   \n",
       "16               0.0  7.769260e+17  it   \n",
       "17               7.0  7.769256e+17  it   \n",
       "18               0.0  7.769237e+17  it   \n",
       "19               0.0  7.769231e+17  it   \n",
       "20               0.0  7.769228e+17  it   \n",
       "21               1.0  7.769227e+17  it   \n",
       "22               0.0  7.769222e+17  it   \n",
       "23               0.0  7.769220e+17  it   \n",
       "24               0.0  7.769220e+17  it   \n",
       "25               0.0  7.769219e+17  it   \n",
       "26               0.0  7.769218e+17  it   \n",
       "27               0.0  7.769216e+17  it   \n",
       "28               3.0  7.769211e+17  it   \n",
       "29               0.0  7.769210e+17  it   \n",
       "...              ...           ...  ..   \n",
       "88184            0.0  7.823757e+17  it   \n",
       "88185            0.0  7.823757e+17  it   \n",
       "88186            0.0  7.823757e+17  it   \n",
       "88187            0.0  7.823750e+17  it   \n",
       "88188            0.0  7.823748e+17  it   \n",
       "88189            0.0  7.823741e+17  it   \n",
       "88190            0.0  7.823740e+17  it   \n",
       "88191            0.0  7.823737e+17  it   \n",
       "88192            0.0  7.823735e+17  it   \n",
       "88193            1.0  7.823734e+17  it   \n",
       "88194            0.0  7.823732e+17  it   \n",
       "88195            0.0  7.823731e+17  it   \n",
       "88196            0.0  7.823731e+17  it   \n",
       "88197            0.0  7.823730e+17  it   \n",
       "88198            0.0  7.823728e+17  it   \n",
       "88199            0.0  7.823727e+17  it   \n",
       "88200            0.0  7.823723e+17  it   \n",
       "88201            0.0  7.823721e+17  it   \n",
       "88202            0.0  7.823721e+17  it   \n",
       "88203            0.0  7.823718e+17  it   \n",
       "88204            0.0  7.823717e+17  it   \n",
       "88205            2.0  7.823715e+17  it   \n",
       "88206            0.0  7.823715e+17  it   \n",
       "88207            0.0  7.823709e+17  it   \n",
       "88208            0.0  7.823708e+17  it   \n",
       "88209            0.0  7.823706e+17  it   \n",
       "88210            0.0  7.823706e+17  it   \n",
       "88211            0.0  7.823704e+17  it   \n",
       "88212            0.0  7.823702e+17  it   \n",
       "88213            0.0  7.823696e+17  it   \n",
       "\n",
       "                                              clean_text  \n",
       "0      [massim, ment, stat, elett, porcellum, dalem, ...  \n",
       "1      [dalem, smuragl, miglior, sponsor, pot, trov, ...  \n",
       "2      [lasc, parol, dalem, ricord, punt, programm, o...  \n",
       "3      [legg, elettoral, cap, poss, govern, giachett,...  \n",
       "4      [vorre, ricord, dalem, riform, costituzional, ...  \n",
       "5      [sintes, ce, riusc, nonost, crost, riform, vuo...  \n",
       "6      [legg, elettoral, cap, poss, govern, giachett,...  \n",
       "7      [patt, crost, treccan, giachett, mett, ko, dal...  \n",
       "8                  [larrog, nom, chiam, dalem, bastauns]  \n",
       "9      [sintes, ce, riusc, nonost, crost, riform, vuo...  \n",
       "10     [giachett, dalem, tv, bob, ricord, maxim, patt...  \n",
       "11     [dalem, fatt, nuov, propost, riform, costituzi...  \n",
       "12     [cort, costituzional, invit, parl, rinnov, sig...  \n",
       "13     [giachett, dalem, tv, domand, sorg, spontane, ...  \n",
       "14     [giachett, dalem, tv, referendum, organizz, ca...  \n",
       "15         [invecc, mal, poracc, pazienz, cha, bastauns]  \n",
       "16                 [larrog, nom, chiam, dalem, bastauns]  \n",
       "17                 [larrog, nom, chiam, dalem, bastauns]  \n",
       "18     [giachett, rip, frasett, scem, delleserc, ovet...  \n",
       "19     [diritt, civil, infatt, dalem, aspett, favor, ...  \n",
       "20     [giachett, rip, frasett, scem, delleserc, ovet...  \n",
       "21                          [sper, volt, buon, bastauns]  \n",
       "22     [giachett, rip, frasett, scem, delleserc, ovet...  \n",
       "23     [dalem, problem, rappresent, govern, paes, ora...  \n",
       "24     [sintes, ce, riusc, nonost, crost, riform, vuo...  \n",
       "25     [megl, cos, mai, bravissim, massim, dalem, sio...  \n",
       "26     [dalem, esce, scopert, sostegn, conserv, alias...  \n",
       "27     [sintes, ce, riusc, nonost, crost, riform, vuo...  \n",
       "28     [d, alem, colp, affond, giachett, ricord, patt...  \n",
       "29     [sintes, ce, riusc, nonost, crost, riform, vuo...  \n",
       "...                                                  ...  \n",
       "88184  [napolit, qual, error, fatt, riformacostituzio...  \n",
       "88185  [referendum, napolit, parl, torn, degn, parl, ...  \n",
       "88186  [piazzapul, cazzar, cac, man, prend, schiaff, ...  \n",
       "88187  [band, farabutt, vuol, sporc, meravigl, costit...  \n",
       "88188  [vincer, vot, sar, bomb, interv, rin, formic, ...  \n",
       "88189  [schiform, costitu, induc, sol, rispost, lelet...  \n",
       "88190  [napolit, qual, error, fatt, riformacostituzio...  \n",
       "88191  [giovan, piddin, veng, form, questuom, iovot, ...  \n",
       "88192  [accoglit, riserv, eurodeput, pd, giann, pitte...  \n",
       "88193  [carpooling, prim, pass, legg, targ, m, s, m, ...  \n",
       "88194  [banc, industrial, ora, manc, sol, lucciardon,...  \n",
       "88195  [dic, renz, pontesullostrett, scemenz, scem, o...  \n",
       "88196  [lital, popol, piu, dormient, legg, ques, vote...  \n",
       "88197  [person, med, intelligent, bast, vot, zagrebel...  \n",
       "88198  [band, farabutt, vuol, sporc, meravigl, costit...  \n",
       "88199  [person, med, intelligent, bast, vot, zagrebel...  \n",
       "88200  [band, farabutt, vuol, sporc, meravigl, costit...  \n",
       "88201  [napolit, qual, error, fatt, riformacostituzio...  \n",
       "88202  [verra, sepolt, montagn, iovot, referendumcost...  \n",
       "88203  [rom, cambier, volt, qualc, temp, sar, fin, io...  \n",
       "88204  [schiform, costitu, induc, sol, rispost, lelet...  \n",
       "88205  [lunic, cos, riesc, davver, cap, puo, lottante...  \n",
       "88206  [fim, complet, ital, giorn, arcobalen, final, ...  \n",
       "88207  [verra, sepolt, montagn, iovot, referendumcost...  \n",
       "88208  [fim, complet, ital, giorn, arcobalen, final, ...  \n",
       "88209           [entramb, pessim, soggett, polit, iovot]  \n",
       "88210  [piu, fiduc, wann, marc, mag, do, nasc, renz, ...  \n",
       "88211  [piu, fiduc, wann, marc, mag, do, nasc, renz, ...  \n",
       "88212  [verra, sepolt, montagn, iovot, referendumcost...  \n",
       "88213  [appell, lettor, artist, iovot, iodic, referen...  \n",
       "\n",
       "[126687 rows x 8 columns]"
      ]
     },
     "execution_count": 15,
     "metadata": {},
     "output_type": "execute_result"
    }
   ],
   "source": [
    "SioNo_Final"
   ]
  },
  {
   "cell_type": "code",
   "execution_count": 33,
   "metadata": {
    "collapsed": false
   },
   "outputs": [],
   "source": [
    "Temp = pd.DataFrame(Prob,columns = ['ridge','lasso','tree'])\n",
    "Temp1 = np.concatenate([SioNo_Final[['created_at','text','retweet_count','favorite_count','id']].as_matrix(),Temp.as_matrix()],axis = 1)\n",
    "Final = pd.DataFrame(Temp1,columns = ['created_at','text','retweet_count','favorite_count','id','ridge','lasso','tree'])\n",
    "Final.to_csv('Prob_revise.csv')"
   ]
  },
  {
   "cell_type": "code",
   "execution_count": 34,
   "metadata": {
    "collapsed": false
   },
   "outputs": [
    {
     "data": {
      "text/plain": [
       "(126687, 8)"
      ]
     },
     "execution_count": 34,
     "metadata": {},
     "output_type": "execute_result"
    }
   ],
   "source": [
    "Final.shape"
   ]
  },
  {
   "cell_type": "code",
   "execution_count": 31,
   "metadata": {
    "collapsed": false
   },
   "outputs": [
    {
     "data": {
      "text/plain": [
       "(126687, 8)"
      ]
     },
     "execution_count": 31,
     "metadata": {},
     "output_type": "execute_result"
    }
   ],
   "source": [
    "SioNo_Final.shape"
   ]
  },
  {
   "cell_type": "code",
   "execution_count": null,
   "metadata": {
    "collapsed": true
   },
   "outputs": [],
   "source": []
  }
 ],
 "metadata": {
  "anaconda-cloud": {},
  "kernelspec": {
   "display_name": "Python [Root]",
   "language": "python",
   "name": "Python [Root]"
  },
  "language_info": {
   "codemirror_mode": {
    "name": "ipython",
    "version": 2
   },
   "file_extension": ".py",
   "mimetype": "text/x-python",
   "name": "python",
   "nbconvert_exporter": "python",
   "pygments_lexer": "ipython2",
   "version": "2.7.12"
  }
 },
 "nbformat": 4,
 "nbformat_minor": 0
}
